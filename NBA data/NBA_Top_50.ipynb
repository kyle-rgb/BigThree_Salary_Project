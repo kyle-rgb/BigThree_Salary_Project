{
 "cells": [
  {
   "cell_type": "code",
   "execution_count": 1,
   "metadata": {},
   "outputs": [],
   "source": [
    "import csv\n",
    "import os\n",
    "import pandas as pd\n",
    "import numpy as np\n",
    "from matplotlib import pyplot as plt\n",
    "import scipy.stats as st\n",
    "from scipy.stats import linregress"
   ]
  },
  {
   "cell_type": "code",
   "execution_count": 2,
   "metadata": {},
   "outputs": [
    {
     "data": {
      "text/plain": [
       "'C:\\\\Users\\\\Smokey\\\\Desktop\\\\2020_gitclass\\\\NBA data'"
      ]
     },
     "execution_count": 2,
     "metadata": {},
     "output_type": "execute_result"
    }
   ],
   "source": [
    "pwd"
   ]
  },
  {
   "cell_type": "code",
   "execution_count": 3,
   "metadata": {},
   "outputs": [],
   "source": [
    "season = os.path.join(\"..\",\"NBA data\", \"Seasons_Stats_complete.csv\")\n",
    "salary = os.path.join(\"..\",\"NBA data\", \"NBA1 (1).csv\")\n",
    "s2018 = os.path.join(\"..\",\"NBA data\", \"2018s.csv\")"
   ]
  },
  {
   "cell_type": "code",
   "execution_count": 4,
   "metadata": {},
   "outputs": [
    {
     "data": {
      "text/html": [
       "<div>\n",
       "<style scoped>\n",
       "    .dataframe tbody tr th:only-of-type {\n",
       "        vertical-align: middle;\n",
       "    }\n",
       "\n",
       "    .dataframe tbody tr th {\n",
       "        vertical-align: top;\n",
       "    }\n",
       "\n",
       "    .dataframe thead th {\n",
       "        text-align: right;\n",
       "    }\n",
       "</style>\n",
       "<table border=\"1\" class=\"dataframe\">\n",
       "  <thead>\n",
       "    <tr style=\"text-align: right;\">\n",
       "      <th></th>\n",
       "      <th>Unnamed: 0</th>\n",
       "      <th>Year</th>\n",
       "      <th>Player</th>\n",
       "      <th>Pos</th>\n",
       "      <th>Age</th>\n",
       "      <th>Tm</th>\n",
       "      <th>G</th>\n",
       "      <th>MP</th>\n",
       "      <th>PER</th>\n",
       "      <th>TS%</th>\n",
       "      <th>...</th>\n",
       "      <th>FT%</th>\n",
       "      <th>ORB</th>\n",
       "      <th>DRB</th>\n",
       "      <th>TRB</th>\n",
       "      <th>AST</th>\n",
       "      <th>STL</th>\n",
       "      <th>BLK</th>\n",
       "      <th>TOV</th>\n",
       "      <th>PF</th>\n",
       "      <th>PTS</th>\n",
       "    </tr>\n",
       "  </thead>\n",
       "  <tbody>\n",
       "    <tr>\n",
       "      <th>0</th>\n",
       "      <td>0</td>\n",
       "      <td>1950</td>\n",
       "      <td>Curly Armstrong</td>\n",
       "      <td>G-F</td>\n",
       "      <td>31</td>\n",
       "      <td>FTW</td>\n",
       "      <td>63</td>\n",
       "      <td>0</td>\n",
       "      <td>0.0</td>\n",
       "      <td>0.368</td>\n",
       "      <td>...</td>\n",
       "      <td>0.705</td>\n",
       "      <td>0</td>\n",
       "      <td>0</td>\n",
       "      <td>0</td>\n",
       "      <td>176</td>\n",
       "      <td>0</td>\n",
       "      <td>0</td>\n",
       "      <td>0</td>\n",
       "      <td>217</td>\n",
       "      <td>458</td>\n",
       "    </tr>\n",
       "    <tr>\n",
       "      <th>1</th>\n",
       "      <td>1</td>\n",
       "      <td>1950</td>\n",
       "      <td>Cliff Barker</td>\n",
       "      <td>SG</td>\n",
       "      <td>29</td>\n",
       "      <td>INO</td>\n",
       "      <td>49</td>\n",
       "      <td>0</td>\n",
       "      <td>0.0</td>\n",
       "      <td>0.435</td>\n",
       "      <td>...</td>\n",
       "      <td>0.708</td>\n",
       "      <td>0</td>\n",
       "      <td>0</td>\n",
       "      <td>0</td>\n",
       "      <td>109</td>\n",
       "      <td>0</td>\n",
       "      <td>0</td>\n",
       "      <td>0</td>\n",
       "      <td>99</td>\n",
       "      <td>279</td>\n",
       "    </tr>\n",
       "    <tr>\n",
       "      <th>2</th>\n",
       "      <td>2</td>\n",
       "      <td>1950</td>\n",
       "      <td>Leo Barnhorst</td>\n",
       "      <td>SF</td>\n",
       "      <td>25</td>\n",
       "      <td>CHS</td>\n",
       "      <td>67</td>\n",
       "      <td>0</td>\n",
       "      <td>0.0</td>\n",
       "      <td>0.394</td>\n",
       "      <td>...</td>\n",
       "      <td>0.698</td>\n",
       "      <td>0</td>\n",
       "      <td>0</td>\n",
       "      <td>0</td>\n",
       "      <td>140</td>\n",
       "      <td>0</td>\n",
       "      <td>0</td>\n",
       "      <td>0</td>\n",
       "      <td>192</td>\n",
       "      <td>438</td>\n",
       "    </tr>\n",
       "    <tr>\n",
       "      <th>3</th>\n",
       "      <td>3</td>\n",
       "      <td>1950</td>\n",
       "      <td>Ed Bartels</td>\n",
       "      <td>F</td>\n",
       "      <td>24</td>\n",
       "      <td>TOT</td>\n",
       "      <td>15</td>\n",
       "      <td>0</td>\n",
       "      <td>0.0</td>\n",
       "      <td>0.312</td>\n",
       "      <td>...</td>\n",
       "      <td>0.559</td>\n",
       "      <td>0</td>\n",
       "      <td>0</td>\n",
       "      <td>0</td>\n",
       "      <td>20</td>\n",
       "      <td>0</td>\n",
       "      <td>0</td>\n",
       "      <td>0</td>\n",
       "      <td>29</td>\n",
       "      <td>63</td>\n",
       "    </tr>\n",
       "    <tr>\n",
       "      <th>4</th>\n",
       "      <td>4</td>\n",
       "      <td>1950</td>\n",
       "      <td>Ed Bartels</td>\n",
       "      <td>F</td>\n",
       "      <td>24</td>\n",
       "      <td>DNN</td>\n",
       "      <td>13</td>\n",
       "      <td>0</td>\n",
       "      <td>0.0</td>\n",
       "      <td>0.308</td>\n",
       "      <td>...</td>\n",
       "      <td>0.548</td>\n",
       "      <td>0</td>\n",
       "      <td>0</td>\n",
       "      <td>0</td>\n",
       "      <td>20</td>\n",
       "      <td>0</td>\n",
       "      <td>0</td>\n",
       "      <td>0</td>\n",
       "      <td>27</td>\n",
       "      <td>59</td>\n",
       "    </tr>\n",
       "  </tbody>\n",
       "</table>\n",
       "<p>5 rows × 50 columns</p>\n",
       "</div>"
      ],
      "text/plain": [
       "   Unnamed: 0  Year           Player  Pos  Age   Tm   G  MP  PER    TS%  ...  \\\n",
       "0           0  1950  Curly Armstrong  G-F   31  FTW  63   0  0.0  0.368  ...   \n",
       "1           1  1950     Cliff Barker   SG   29  INO  49   0  0.0  0.435  ...   \n",
       "2           2  1950    Leo Barnhorst   SF   25  CHS  67   0  0.0  0.394  ...   \n",
       "3           3  1950       Ed Bartels    F   24  TOT  15   0  0.0  0.312  ...   \n",
       "4           4  1950       Ed Bartels    F   24  DNN  13   0  0.0  0.308  ...   \n",
       "\n",
       "     FT%  ORB  DRB  TRB  AST  STL  BLK  TOV   PF  PTS  \n",
       "0  0.705    0    0    0  176    0    0    0  217  458  \n",
       "1  0.708    0    0    0  109    0    0    0   99  279  \n",
       "2  0.698    0    0    0  140    0    0    0  192  438  \n",
       "3  0.559    0    0    0   20    0    0    0   29   63  \n",
       "4  0.548    0    0    0   20    0    0    0   27   59  \n",
       "\n",
       "[5 rows x 50 columns]"
      ]
     },
     "execution_count": 4,
     "metadata": {},
     "output_type": "execute_result"
    }
   ],
   "source": [
    "season_df = pd.read_csv(season)\n",
    "season_df.head()"
   ]
  },
  {
   "cell_type": "code",
   "execution_count": 5,
   "metadata": {},
   "outputs": [
    {
     "data": {
      "text/html": [
       "<div>\n",
       "<style scoped>\n",
       "    .dataframe tbody tr th:only-of-type {\n",
       "        vertical-align: middle;\n",
       "    }\n",
       "\n",
       "    .dataframe tbody tr th {\n",
       "        vertical-align: top;\n",
       "    }\n",
       "\n",
       "    .dataframe thead th {\n",
       "        text-align: right;\n",
       "    }\n",
       "</style>\n",
       "<table border=\"1\" class=\"dataframe\">\n",
       "  <thead>\n",
       "    <tr style=\"text-align: right;\">\n",
       "      <th></th>\n",
       "      <th>Unnamed: 0</th>\n",
       "      <th>Year</th>\n",
       "      <th>Player</th>\n",
       "      <th>Pos</th>\n",
       "      <th>Age</th>\n",
       "      <th>Tm</th>\n",
       "      <th>G</th>\n",
       "      <th>MP</th>\n",
       "      <th>PER</th>\n",
       "      <th>TS%</th>\n",
       "      <th>...</th>\n",
       "      <th>TRB</th>\n",
       "      <th>AST</th>\n",
       "      <th>STL</th>\n",
       "      <th>BLK</th>\n",
       "      <th>TOV</th>\n",
       "      <th>PF</th>\n",
       "      <th>PTS</th>\n",
       "      <th>Pts Per Game</th>\n",
       "      <th>Reb Per Game</th>\n",
       "      <th>Ast Per Game</th>\n",
       "    </tr>\n",
       "  </thead>\n",
       "  <tbody>\n",
       "    <tr>\n",
       "      <th>0</th>\n",
       "      <td>0</td>\n",
       "      <td>1950</td>\n",
       "      <td>Curly Armstrong</td>\n",
       "      <td>G-F</td>\n",
       "      <td>31</td>\n",
       "      <td>FTW</td>\n",
       "      <td>63</td>\n",
       "      <td>0</td>\n",
       "      <td>0.0</td>\n",
       "      <td>0.368</td>\n",
       "      <td>...</td>\n",
       "      <td>0</td>\n",
       "      <td>176</td>\n",
       "      <td>0</td>\n",
       "      <td>0</td>\n",
       "      <td>0</td>\n",
       "      <td>217</td>\n",
       "      <td>458</td>\n",
       "      <td>7.269841</td>\n",
       "      <td>0.000000</td>\n",
       "      <td>2.793651</td>\n",
       "    </tr>\n",
       "    <tr>\n",
       "      <th>1</th>\n",
       "      <td>1</td>\n",
       "      <td>1950</td>\n",
       "      <td>Cliff Barker</td>\n",
       "      <td>SG</td>\n",
       "      <td>29</td>\n",
       "      <td>INO</td>\n",
       "      <td>49</td>\n",
       "      <td>0</td>\n",
       "      <td>0.0</td>\n",
       "      <td>0.435</td>\n",
       "      <td>...</td>\n",
       "      <td>0</td>\n",
       "      <td>109</td>\n",
       "      <td>0</td>\n",
       "      <td>0</td>\n",
       "      <td>0</td>\n",
       "      <td>99</td>\n",
       "      <td>279</td>\n",
       "      <td>5.693878</td>\n",
       "      <td>0.000000</td>\n",
       "      <td>2.224490</td>\n",
       "    </tr>\n",
       "    <tr>\n",
       "      <th>2</th>\n",
       "      <td>2</td>\n",
       "      <td>1950</td>\n",
       "      <td>Leo Barnhorst</td>\n",
       "      <td>SF</td>\n",
       "      <td>25</td>\n",
       "      <td>CHS</td>\n",
       "      <td>67</td>\n",
       "      <td>0</td>\n",
       "      <td>0.0</td>\n",
       "      <td>0.394</td>\n",
       "      <td>...</td>\n",
       "      <td>0</td>\n",
       "      <td>140</td>\n",
       "      <td>0</td>\n",
       "      <td>0</td>\n",
       "      <td>0</td>\n",
       "      <td>192</td>\n",
       "      <td>438</td>\n",
       "      <td>6.537313</td>\n",
       "      <td>0.000000</td>\n",
       "      <td>2.089552</td>\n",
       "    </tr>\n",
       "    <tr>\n",
       "      <th>3</th>\n",
       "      <td>3</td>\n",
       "      <td>1950</td>\n",
       "      <td>Ed Bartels</td>\n",
       "      <td>F</td>\n",
       "      <td>24</td>\n",
       "      <td>TOT</td>\n",
       "      <td>15</td>\n",
       "      <td>0</td>\n",
       "      <td>0.0</td>\n",
       "      <td>0.312</td>\n",
       "      <td>...</td>\n",
       "      <td>0</td>\n",
       "      <td>20</td>\n",
       "      <td>0</td>\n",
       "      <td>0</td>\n",
       "      <td>0</td>\n",
       "      <td>29</td>\n",
       "      <td>63</td>\n",
       "      <td>4.200000</td>\n",
       "      <td>0.000000</td>\n",
       "      <td>1.333333</td>\n",
       "    </tr>\n",
       "    <tr>\n",
       "      <th>4</th>\n",
       "      <td>4</td>\n",
       "      <td>1950</td>\n",
       "      <td>Ed Bartels</td>\n",
       "      <td>F</td>\n",
       "      <td>24</td>\n",
       "      <td>DNN</td>\n",
       "      <td>13</td>\n",
       "      <td>0</td>\n",
       "      <td>0.0</td>\n",
       "      <td>0.308</td>\n",
       "      <td>...</td>\n",
       "      <td>0</td>\n",
       "      <td>20</td>\n",
       "      <td>0</td>\n",
       "      <td>0</td>\n",
       "      <td>0</td>\n",
       "      <td>27</td>\n",
       "      <td>59</td>\n",
       "      <td>4.538462</td>\n",
       "      <td>0.000000</td>\n",
       "      <td>1.538462</td>\n",
       "    </tr>\n",
       "    <tr>\n",
       "      <th>...</th>\n",
       "      <td>...</td>\n",
       "      <td>...</td>\n",
       "      <td>...</td>\n",
       "      <td>...</td>\n",
       "      <td>...</td>\n",
       "      <td>...</td>\n",
       "      <td>...</td>\n",
       "      <td>...</td>\n",
       "      <td>...</td>\n",
       "      <td>...</td>\n",
       "      <td>...</td>\n",
       "      <td>...</td>\n",
       "      <td>...</td>\n",
       "      <td>...</td>\n",
       "      <td>...</td>\n",
       "      <td>...</td>\n",
       "      <td>...</td>\n",
       "      <td>...</td>\n",
       "      <td>...</td>\n",
       "      <td>...</td>\n",
       "      <td>...</td>\n",
       "    </tr>\n",
       "    <tr>\n",
       "      <th>26058</th>\n",
       "      <td>703</td>\n",
       "      <td>2019</td>\n",
       "      <td>Tyler Zeller</td>\n",
       "      <td>C</td>\n",
       "      <td>29</td>\n",
       "      <td>MEM</td>\n",
       "      <td>4</td>\n",
       "      <td>82</td>\n",
       "      <td>19.4</td>\n",
       "      <td>0.640</td>\n",
       "      <td>...</td>\n",
       "      <td>18</td>\n",
       "      <td>3</td>\n",
       "      <td>1</td>\n",
       "      <td>3</td>\n",
       "      <td>4</td>\n",
       "      <td>16</td>\n",
       "      <td>46</td>\n",
       "      <td>11.500000</td>\n",
       "      <td>4.500000</td>\n",
       "      <td>0.750000</td>\n",
       "    </tr>\n",
       "    <tr>\n",
       "      <th>26059</th>\n",
       "      <td>704</td>\n",
       "      <td>2019</td>\n",
       "      <td>Ante Žižić</td>\n",
       "      <td>C</td>\n",
       "      <td>22</td>\n",
       "      <td>CLE</td>\n",
       "      <td>59</td>\n",
       "      <td>1082</td>\n",
       "      <td>16.2</td>\n",
       "      <td>0.590</td>\n",
       "      <td>...</td>\n",
       "      <td>320</td>\n",
       "      <td>53</td>\n",
       "      <td>13</td>\n",
       "      <td>22</td>\n",
       "      <td>61</td>\n",
       "      <td>113</td>\n",
       "      <td>459</td>\n",
       "      <td>7.779661</td>\n",
       "      <td>5.423729</td>\n",
       "      <td>0.898305</td>\n",
       "    </tr>\n",
       "    <tr>\n",
       "      <th>26060</th>\n",
       "      <td>705</td>\n",
       "      <td>2019</td>\n",
       "      <td>Ivica Zubac</td>\n",
       "      <td>C</td>\n",
       "      <td>21</td>\n",
       "      <td>TOT</td>\n",
       "      <td>59</td>\n",
       "      <td>1040</td>\n",
       "      <td>18.9</td>\n",
       "      <td>0.604</td>\n",
       "      <td>...</td>\n",
       "      <td>362</td>\n",
       "      <td>63</td>\n",
       "      <td>14</td>\n",
       "      <td>51</td>\n",
       "      <td>70</td>\n",
       "      <td>137</td>\n",
       "      <td>525</td>\n",
       "      <td>8.898305</td>\n",
       "      <td>6.135593</td>\n",
       "      <td>1.067797</td>\n",
       "    </tr>\n",
       "    <tr>\n",
       "      <th>26061</th>\n",
       "      <td>706</td>\n",
       "      <td>2019</td>\n",
       "      <td>Ivica Zubac</td>\n",
       "      <td>C</td>\n",
       "      <td>21</td>\n",
       "      <td>LAL</td>\n",
       "      <td>33</td>\n",
       "      <td>516</td>\n",
       "      <td>19.5</td>\n",
       "      <td>0.633</td>\n",
       "      <td>...</td>\n",
       "      <td>162</td>\n",
       "      <td>25</td>\n",
       "      <td>4</td>\n",
       "      <td>27</td>\n",
       "      <td>33</td>\n",
       "      <td>73</td>\n",
       "      <td>281</td>\n",
       "      <td>8.515152</td>\n",
       "      <td>4.909091</td>\n",
       "      <td>0.757576</td>\n",
       "    </tr>\n",
       "    <tr>\n",
       "      <th>26062</th>\n",
       "      <td>707</td>\n",
       "      <td>2019</td>\n",
       "      <td>Ivica Zubac</td>\n",
       "      <td>C</td>\n",
       "      <td>21</td>\n",
       "      <td>LAC</td>\n",
       "      <td>26</td>\n",
       "      <td>524</td>\n",
       "      <td>18.3</td>\n",
       "      <td>0.574</td>\n",
       "      <td>...</td>\n",
       "      <td>200</td>\n",
       "      <td>38</td>\n",
       "      <td>10</td>\n",
       "      <td>24</td>\n",
       "      <td>37</td>\n",
       "      <td>64</td>\n",
       "      <td>244</td>\n",
       "      <td>9.384615</td>\n",
       "      <td>7.692308</td>\n",
       "      <td>1.461538</td>\n",
       "    </tr>\n",
       "  </tbody>\n",
       "</table>\n",
       "<p>26063 rows × 53 columns</p>\n",
       "</div>"
      ],
      "text/plain": [
       "       Unnamed: 0  Year           Player  Pos  Age   Tm   G    MP   PER  \\\n",
       "0               0  1950  Curly Armstrong  G-F   31  FTW  63     0   0.0   \n",
       "1               1  1950     Cliff Barker   SG   29  INO  49     0   0.0   \n",
       "2               2  1950    Leo Barnhorst   SF   25  CHS  67     0   0.0   \n",
       "3               3  1950       Ed Bartels    F   24  TOT  15     0   0.0   \n",
       "4               4  1950       Ed Bartels    F   24  DNN  13     0   0.0   \n",
       "...           ...   ...              ...  ...  ...  ...  ..   ...   ...   \n",
       "26058         703  2019     Tyler Zeller    C   29  MEM   4    82  19.4   \n",
       "26059         704  2019       Ante Žižić    C   22  CLE  59  1082  16.2   \n",
       "26060         705  2019      Ivica Zubac    C   21  TOT  59  1040  18.9   \n",
       "26061         706  2019      Ivica Zubac    C   21  LAL  33   516  19.5   \n",
       "26062         707  2019      Ivica Zubac    C   21  LAC  26   524  18.3   \n",
       "\n",
       "         TS%  ...  TRB  AST  STL  BLK  TOV   PF  PTS  Pts Per Game  \\\n",
       "0      0.368  ...    0  176    0    0    0  217  458      7.269841   \n",
       "1      0.435  ...    0  109    0    0    0   99  279      5.693878   \n",
       "2      0.394  ...    0  140    0    0    0  192  438      6.537313   \n",
       "3      0.312  ...    0   20    0    0    0   29   63      4.200000   \n",
       "4      0.308  ...    0   20    0    0    0   27   59      4.538462   \n",
       "...      ...  ...  ...  ...  ...  ...  ...  ...  ...           ...   \n",
       "26058  0.640  ...   18    3    1    3    4   16   46     11.500000   \n",
       "26059  0.590  ...  320   53   13   22   61  113  459      7.779661   \n",
       "26060  0.604  ...  362   63   14   51   70  137  525      8.898305   \n",
       "26061  0.633  ...  162   25    4   27   33   73  281      8.515152   \n",
       "26062  0.574  ...  200   38   10   24   37   64  244      9.384615   \n",
       "\n",
       "       Reb Per Game  Ast Per Game  \n",
       "0          0.000000      2.793651  \n",
       "1          0.000000      2.224490  \n",
       "2          0.000000      2.089552  \n",
       "3          0.000000      1.333333  \n",
       "4          0.000000      1.538462  \n",
       "...             ...           ...  \n",
       "26058      4.500000      0.750000  \n",
       "26059      5.423729      0.898305  \n",
       "26060      6.135593      1.067797  \n",
       "26061      4.909091      0.757576  \n",
       "26062      7.692308      1.461538  \n",
       "\n",
       "[26063 rows x 53 columns]"
      ]
     },
     "execution_count": 5,
     "metadata": {},
     "output_type": "execute_result"
    }
   ],
   "source": [
    "pts_per = season_df['PTS']/season_df[\"G\"]\n",
    "reb_per = season_df['TRB']/season_df[\"G\"]\n",
    "ast_per = season_df['AST']/season_df[\"G\"]\n",
    "season_df[\"Pts Per Game\"] = pts_per\n",
    "season_df[\"Reb Per Game\"] = reb_per\n",
    "season_df[\"Ast Per Game\"] = ast_per\n",
    "season_df"
   ]
  },
  {
   "cell_type": "code",
   "execution_count": 6,
   "metadata": {},
   "outputs": [
    {
     "data": {
      "text/html": [
       "<div>\n",
       "<style scoped>\n",
       "    .dataframe tbody tr th:only-of-type {\n",
       "        vertical-align: middle;\n",
       "    }\n",
       "\n",
       "    .dataframe tbody tr th {\n",
       "        vertical-align: top;\n",
       "    }\n",
       "\n",
       "    .dataframe thead th {\n",
       "        text-align: right;\n",
       "    }\n",
       "</style>\n",
       "<table border=\"1\" class=\"dataframe\">\n",
       "  <thead>\n",
       "    <tr style=\"text-align: right;\">\n",
       "      <th></th>\n",
       "      <th>Year</th>\n",
       "      <th>Player</th>\n",
       "      <th>Pts Per Game</th>\n",
       "      <th>Reb Per Game</th>\n",
       "      <th>Ast Per Game</th>\n",
<<<<<<< HEAD
       "      <th>PER</th>\n",
=======
>>>>>>> 7638e37458405f05872cdd818afde27ef232e592
       "    </tr>\n",
       "  </thead>\n",
       "  <tbody>\n",
       "    <tr>\n",
       "      <th>0</th>\n",
       "      <td>1950</td>\n",
       "      <td>Curly Armstrong</td>\n",
       "      <td>7.269841</td>\n",
       "      <td>0.0</td>\n",
       "      <td>2.793651</td>\n",
<<<<<<< HEAD
       "      <td>0.0</td>\n",
=======
>>>>>>> 7638e37458405f05872cdd818afde27ef232e592
       "    </tr>\n",
       "    <tr>\n",
       "      <th>1</th>\n",
       "      <td>1950</td>\n",
       "      <td>Cliff Barker</td>\n",
       "      <td>5.693878</td>\n",
       "      <td>0.0</td>\n",
       "      <td>2.224490</td>\n",
<<<<<<< HEAD
       "      <td>0.0</td>\n",
=======
>>>>>>> 7638e37458405f05872cdd818afde27ef232e592
       "    </tr>\n",
       "    <tr>\n",
       "      <th>2</th>\n",
       "      <td>1950</td>\n",
       "      <td>Leo Barnhorst</td>\n",
       "      <td>6.537313</td>\n",
       "      <td>0.0</td>\n",
       "      <td>2.089552</td>\n",
<<<<<<< HEAD
       "      <td>0.0</td>\n",
=======
>>>>>>> 7638e37458405f05872cdd818afde27ef232e592
       "    </tr>\n",
       "    <tr>\n",
       "      <th>3</th>\n",
       "      <td>1950</td>\n",
       "      <td>Ed Bartels</td>\n",
       "      <td>4.200000</td>\n",
       "      <td>0.0</td>\n",
       "      <td>1.333333</td>\n",
<<<<<<< HEAD
       "      <td>0.0</td>\n",
=======
>>>>>>> 7638e37458405f05872cdd818afde27ef232e592
       "    </tr>\n",
       "    <tr>\n",
       "      <th>4</th>\n",
       "      <td>1950</td>\n",
       "      <td>Ed Bartels</td>\n",
       "      <td>4.538462</td>\n",
       "      <td>0.0</td>\n",
       "      <td>1.538462</td>\n",
<<<<<<< HEAD
       "      <td>0.0</td>\n",
=======
>>>>>>> 7638e37458405f05872cdd818afde27ef232e592
       "    </tr>\n",
       "    <tr>\n",
       "      <th>5</th>\n",
       "      <td>1950</td>\n",
       "      <td>Ed Bartels</td>\n",
       "      <td>2.000000</td>\n",
       "      <td>0.0</td>\n",
       "      <td>0.000000</td>\n",
<<<<<<< HEAD
       "      <td>0.0</td>\n",
=======
>>>>>>> 7638e37458405f05872cdd818afde27ef232e592
       "    </tr>\n",
       "    <tr>\n",
       "      <th>6</th>\n",
       "      <td>1950</td>\n",
       "      <td>Ralph Beard</td>\n",
       "      <td>14.916667</td>\n",
       "      <td>0.0</td>\n",
       "      <td>3.883333</td>\n",
<<<<<<< HEAD
       "      <td>0.0</td>\n",
=======
>>>>>>> 7638e37458405f05872cdd818afde27ef232e592
       "    </tr>\n",
       "    <tr>\n",
       "      <th>7</th>\n",
       "      <td>1950</td>\n",
       "      <td>Gene Berce</td>\n",
       "      <td>3.333333</td>\n",
       "      <td>0.0</td>\n",
       "      <td>0.666667</td>\n",
<<<<<<< HEAD
       "      <td>0.0</td>\n",
=======
>>>>>>> 7638e37458405f05872cdd818afde27ef232e592
       "    </tr>\n",
       "    <tr>\n",
       "      <th>8</th>\n",
       "      <td>1950</td>\n",
       "      <td>Charlie Black</td>\n",
       "      <td>10.169231</td>\n",
       "      <td>0.0</td>\n",
       "      <td>2.507692</td>\n",
<<<<<<< HEAD
       "      <td>0.0</td>\n",
=======
>>>>>>> 7638e37458405f05872cdd818afde27ef232e592
       "    </tr>\n",
       "    <tr>\n",
       "      <th>9</th>\n",
       "      <td>1950</td>\n",
       "      <td>Charlie Black</td>\n",
       "      <td>10.611111</td>\n",
       "      <td>0.0</td>\n",
       "      <td>2.083333</td>\n",
<<<<<<< HEAD
       "      <td>0.0</td>\n",
=======
>>>>>>> 7638e37458405f05872cdd818afde27ef232e592
       "    </tr>\n",
       "  </tbody>\n",
       "</table>\n",
       "</div>"
      ],
      "text/plain": [
<<<<<<< HEAD
       "   Year           Player  Pts Per Game  Reb Per Game  Ast Per Game  PER\n",
       "0  1950  Curly Armstrong      7.269841           0.0      2.793651  0.0\n",
       "1  1950     Cliff Barker      5.693878           0.0      2.224490  0.0\n",
       "2  1950    Leo Barnhorst      6.537313           0.0      2.089552  0.0\n",
       "3  1950       Ed Bartels      4.200000           0.0      1.333333  0.0\n",
       "4  1950       Ed Bartels      4.538462           0.0      1.538462  0.0\n",
       "5  1950       Ed Bartels      2.000000           0.0      0.000000  0.0\n",
       "6  1950      Ralph Beard     14.916667           0.0      3.883333  0.0\n",
       "7  1950       Gene Berce      3.333333           0.0      0.666667  0.0\n",
       "8  1950    Charlie Black     10.169231           0.0      2.507692  0.0\n",
       "9  1950    Charlie Black     10.611111           0.0      2.083333  0.0"
=======
       "   Year           Player  Pts Per Game  Reb Per Game  Ast Per Game\n",
       "0  1950  Curly Armstrong      7.269841           0.0      2.793651\n",
       "1  1950     Cliff Barker      5.693878           0.0      2.224490\n",
       "2  1950    Leo Barnhorst      6.537313           0.0      2.089552\n",
       "3  1950       Ed Bartels      4.200000           0.0      1.333333\n",
       "4  1950       Ed Bartels      4.538462           0.0      1.538462\n",
       "5  1950       Ed Bartels      2.000000           0.0      0.000000\n",
       "6  1950      Ralph Beard     14.916667           0.0      3.883333\n",
       "7  1950       Gene Berce      3.333333           0.0      0.666667\n",
       "8  1950    Charlie Black     10.169231           0.0      2.507692\n",
       "9  1950    Charlie Black     10.611111           0.0      2.083333"
>>>>>>> 7638e37458405f05872cdd818afde27ef232e592
      ]
     },
     "execution_count": 6,
     "metadata": {},
     "output_type": "execute_result"
    }
   ],
   "source": [
<<<<<<< HEAD
    "season_filt = season_df[[\"Year\", \"Player\", \"Pts Per Game\",\"Reb Per Game\", \"Ast Per Game\", \"PER\"]]\n",
=======
    "season_filt = season_df[[\"Year\", \"Player\", \"Pts Per Game\",\"Reb Per Game\", \"Ast Per Game\"]]\n",
>>>>>>> 7638e37458405f05872cdd818afde27ef232e592
    "season_filt.head(10)"
   ]
  },
  {
   "cell_type": "code",
<<<<<<< HEAD
=======
   "execution_count": 7,
   "metadata": {},
   "outputs": [
    {
     "data": {
      "text/plain": [
       "Player           50\n",
       "Contract year    50\n",
       "Avg Annual       50\n",
       "Prior  Pts       49\n",
       "Prior Reb        49\n",
       "Prior Ast        49\n",
       "After Pts        49\n",
       "After Reb        49\n",
       "After Ast        49\n",
       "dtype: int64"
      ]
     },
     "execution_count": 7,
     "metadata": {},
     "output_type": "execute_result"
    }
   ],
   "source": [
    "salary_df = pd.read_csv(salary)\n",
    "salary_df.count()"
   ]
  },
  {
   "cell_type": "code",
>>>>>>> 7638e37458405f05872cdd818afde27ef232e592
   "execution_count": 8,
   "metadata": {},
   "outputs": [
    {
     "data": {
      "text/html": [
       "<div>\n",
       "<style scoped>\n",
       "    .dataframe tbody tr th:only-of-type {\n",
       "        vertical-align: middle;\n",
       "    }\n",
       "\n",
       "    .dataframe tbody tr th {\n",
       "        vertical-align: top;\n",
       "    }\n",
       "\n",
       "    .dataframe thead th {\n",
       "        text-align: right;\n",
       "    }\n",
       "</style>\n",
       "<table border=\"1\" class=\"dataframe\">\n",
       "  <thead>\n",
       "    <tr style=\"text-align: right;\">\n",
       "      <th></th>\n",
       "      <th>Year</th>\n",
       "      <th>Player</th>\n",
       "      <th>Pts Per Game</th>\n",
       "      <th>Reb Per Game</th>\n",
       "      <th>Ast Per Game</th>\n",
<<<<<<< HEAD
       "      <th>PER</th>\n",
=======
>>>>>>> 7638e37458405f05872cdd818afde27ef232e592
       "      <th>Contract year</th>\n",
       "      <th>Avg Annual</th>\n",
       "      <th>Prior  Pts</th>\n",
       "      <th>Prior Reb</th>\n",
       "      <th>Prior Ast</th>\n",
       "      <th>After Pts</th>\n",
       "      <th>After Reb</th>\n",
       "      <th>After Ast</th>\n",
       "    </tr>\n",
       "  </thead>\n",
       "  <tbody>\n",
       "    <tr>\n",
       "      <th>0</th>\n",
       "      <td>2004</td>\n",
       "      <td>Carmelo Anthony</td>\n",
       "      <td>21.036585</td>\n",
       "      <td>6.073171</td>\n",
       "      <td>2.768293</td>\n",
<<<<<<< HEAD
       "      <td>17.6</td>\n",
=======
>>>>>>> 7638e37458405f05872cdd818afde27ef232e592
       "      <td>2017</td>\n",
       "      <td>26,243,760</td>\n",
       "      <td>22.4</td>\n",
       "      <td>5.9</td>\n",
       "      <td>2.9</td>\n",
       "      <td>16.2</td>\n",
       "      <td>5.8</td>\n",
       "      <td>1.3</td>\n",
       "    </tr>\n",
       "    <tr>\n",
       "      <th>1</th>\n",
       "      <td>2005</td>\n",
       "      <td>Carmelo Anthony</td>\n",
       "      <td>20.773333</td>\n",
       "      <td>5.680000</td>\n",
       "      <td>2.586667</td>\n",
<<<<<<< HEAD
       "      <td>16.7</td>\n",
=======
>>>>>>> 7638e37458405f05872cdd818afde27ef232e592
       "      <td>2017</td>\n",
       "      <td>26,243,760</td>\n",
       "      <td>22.4</td>\n",
       "      <td>5.9</td>\n",
       "      <td>2.9</td>\n",
       "      <td>16.2</td>\n",
       "      <td>5.8</td>\n",
       "      <td>1.3</td>\n",
       "    </tr>\n",
       "    <tr>\n",
       "      <th>2</th>\n",
       "      <td>2006</td>\n",
       "      <td>Carmelo Anthony</td>\n",
       "      <td>26.525000</td>\n",
       "      <td>4.925000</td>\n",
       "      <td>2.700000</td>\n",
<<<<<<< HEAD
       "      <td>22.0</td>\n",
=======
>>>>>>> 7638e37458405f05872cdd818afde27ef232e592
       "      <td>2017</td>\n",
       "      <td>26,243,760</td>\n",
       "      <td>22.4</td>\n",
       "      <td>5.9</td>\n",
       "      <td>2.9</td>\n",
       "      <td>16.2</td>\n",
       "      <td>5.8</td>\n",
       "      <td>1.3</td>\n",
       "    </tr>\n",
       "    <tr>\n",
       "      <th>3</th>\n",
       "      <td>2007</td>\n",
       "      <td>Carmelo Anthony</td>\n",
       "      <td>28.938462</td>\n",
       "      <td>6.015385</td>\n",
       "      <td>3.830769</td>\n",
<<<<<<< HEAD
       "      <td>22.1</td>\n",
=======
>>>>>>> 7638e37458405f05872cdd818afde27ef232e592
       "      <td>2017</td>\n",
       "      <td>26,243,760</td>\n",
       "      <td>22.4</td>\n",
       "      <td>5.9</td>\n",
       "      <td>2.9</td>\n",
       "      <td>16.2</td>\n",
       "      <td>5.8</td>\n",
       "      <td>1.3</td>\n",
       "    </tr>\n",
       "    <tr>\n",
       "      <th>4</th>\n",
       "      <td>2008</td>\n",
       "      <td>Carmelo Anthony</td>\n",
       "      <td>25.688312</td>\n",
       "      <td>7.415584</td>\n",
       "      <td>3.363636</td>\n",
<<<<<<< HEAD
       "      <td>21.1</td>\n",
=======
>>>>>>> 7638e37458405f05872cdd818afde27ef232e592
       "      <td>2017</td>\n",
       "      <td>26,243,760</td>\n",
       "      <td>22.4</td>\n",
       "      <td>5.9</td>\n",
       "      <td>2.9</td>\n",
       "      <td>16.2</td>\n",
       "      <td>5.8</td>\n",
       "      <td>1.3</td>\n",
       "    </tr>\n",
       "  </tbody>\n",
       "</table>\n",
       "</div>"
      ],
      "text/plain": [
<<<<<<< HEAD
       "   Year           Player  Pts Per Game  Reb Per Game  Ast Per Game   PER  \\\n",
       "0  2004  Carmelo Anthony     21.036585      6.073171      2.768293  17.6   \n",
       "1  2005  Carmelo Anthony     20.773333      5.680000      2.586667  16.7   \n",
       "2  2006  Carmelo Anthony     26.525000      4.925000      2.700000  22.0   \n",
       "3  2007  Carmelo Anthony     28.938462      6.015385      3.830769  22.1   \n",
       "4  2008  Carmelo Anthony     25.688312      7.415584      3.363636  21.1   \n",
=======
       "   Year           Player  Pts Per Game  Reb Per Game  Ast Per Game  \\\n",
       "0  2004  Carmelo Anthony     21.036585      6.073171      2.768293   \n",
       "1  2005  Carmelo Anthony     20.773333      5.680000      2.586667   \n",
       "2  2006  Carmelo Anthony     26.525000      4.925000      2.700000   \n",
       "3  2007  Carmelo Anthony     28.938462      6.015385      3.830769   \n",
       "4  2008  Carmelo Anthony     25.688312      7.415584      3.363636   \n",
>>>>>>> 7638e37458405f05872cdd818afde27ef232e592
       "\n",
       "   Contract year  Avg Annual  Prior  Pts  Prior Reb  Prior Ast  After Pts  \\\n",
       "0           2017  26,243,760        22.4        5.9        2.9       16.2   \n",
       "1           2017  26,243,760        22.4        5.9        2.9       16.2   \n",
       "2           2017  26,243,760        22.4        5.9        2.9       16.2   \n",
       "3           2017  26,243,760        22.4        5.9        2.9       16.2   \n",
       "4           2017  26,243,760        22.4        5.9        2.9       16.2   \n",
       "\n",
       "   After Reb  After Ast  \n",
       "0        5.8        1.3  \n",
       "1        5.8        1.3  \n",
       "2        5.8        1.3  \n",
       "3        5.8        1.3  \n",
       "4        5.8        1.3  "
      ]
     },
     "execution_count": 8,
     "metadata": {},
     "output_type": "execute_result"
    }
   ],
   "source": [
    "merge_df = pd.merge(season_filt, salary_df, on=\"Player\")\n",
    "merge_df.head()"
   ]
  },
  {
   "cell_type": "code",
   "execution_count": 9,
   "metadata": {},
   "outputs": [
    {
     "data": {
      "text/html": [
       "<div>\n",
       "<style scoped>\n",
       "    .dataframe tbody tr th:only-of-type {\n",
       "        vertical-align: middle;\n",
       "    }\n",
       "\n",
       "    .dataframe tbody tr th {\n",
       "        vertical-align: top;\n",
       "    }\n",
       "\n",
       "    .dataframe thead th {\n",
       "        text-align: right;\n",
       "    }\n",
       "</style>\n",
       "<table border=\"1\" class=\"dataframe\">\n",
       "  <thead>\n",
       "    <tr style=\"text-align: right;\">\n",
       "      <th></th>\n",
       "      <th>Year</th>\n",
       "      <th>Player</th>\n",
       "      <th>Pts Per Game</th>\n",
       "      <th>Reb Per Game</th>\n",
       "      <th>Ast Per Game</th>\n",
<<<<<<< HEAD
       "      <th>PER</th>\n",
=======
>>>>>>> 7638e37458405f05872cdd818afde27ef232e592
       "      <th>Contract year</th>\n",
       "      <th>Avg Annual</th>\n",
       "    </tr>\n",
       "  </thead>\n",
       "  <tbody>\n",
       "    <tr>\n",
       "      <th>0</th>\n",
       "      <td>2004</td>\n",
       "      <td>Carmelo Anthony</td>\n",
       "      <td>21.036585</td>\n",
       "      <td>6.073171</td>\n",
       "      <td>2.768293</td>\n",
<<<<<<< HEAD
       "      <td>17.6</td>\n",
=======
>>>>>>> 7638e37458405f05872cdd818afde27ef232e592
       "      <td>2017</td>\n",
       "      <td>26,243,760</td>\n",
       "    </tr>\n",
       "    <tr>\n",
       "      <th>1</th>\n",
       "      <td>2005</td>\n",
       "      <td>Carmelo Anthony</td>\n",
       "      <td>20.773333</td>\n",
       "      <td>5.680000</td>\n",
       "      <td>2.586667</td>\n",
<<<<<<< HEAD
       "      <td>16.7</td>\n",
=======
>>>>>>> 7638e37458405f05872cdd818afde27ef232e592
       "      <td>2017</td>\n",
       "      <td>26,243,760</td>\n",
       "    </tr>\n",
       "    <tr>\n",
       "      <th>2</th>\n",
       "      <td>2006</td>\n",
       "      <td>Carmelo Anthony</td>\n",
       "      <td>26.525000</td>\n",
       "      <td>4.925000</td>\n",
       "      <td>2.700000</td>\n",
<<<<<<< HEAD
       "      <td>22.0</td>\n",
=======
>>>>>>> 7638e37458405f05872cdd818afde27ef232e592
       "      <td>2017</td>\n",
       "      <td>26,243,760</td>\n",
       "    </tr>\n",
       "    <tr>\n",
       "      <th>3</th>\n",
       "      <td>2007</td>\n",
       "      <td>Carmelo Anthony</td>\n",
       "      <td>28.938462</td>\n",
       "      <td>6.015385</td>\n",
       "      <td>3.830769</td>\n",
<<<<<<< HEAD
       "      <td>22.1</td>\n",
=======
>>>>>>> 7638e37458405f05872cdd818afde27ef232e592
       "      <td>2017</td>\n",
       "      <td>26,243,760</td>\n",
       "    </tr>\n",
       "    <tr>\n",
       "      <th>4</th>\n",
       "      <td>2008</td>\n",
       "      <td>Carmelo Anthony</td>\n",
       "      <td>25.688312</td>\n",
       "      <td>7.415584</td>\n",
       "      <td>3.363636</td>\n",
<<<<<<< HEAD
       "      <td>21.1</td>\n",
=======
>>>>>>> 7638e37458405f05872cdd818afde27ef232e592
       "      <td>2017</td>\n",
       "      <td>26,243,760</td>\n",
       "    </tr>\n",
       "  </tbody>\n",
       "</table>\n",
       "</div>"
      ],
      "text/plain": [
<<<<<<< HEAD
       "   Year           Player  Pts Per Game  Reb Per Game  Ast Per Game   PER  \\\n",
       "0  2004  Carmelo Anthony     21.036585      6.073171      2.768293  17.6   \n",
       "1  2005  Carmelo Anthony     20.773333      5.680000      2.586667  16.7   \n",
       "2  2006  Carmelo Anthony     26.525000      4.925000      2.700000  22.0   \n",
       "3  2007  Carmelo Anthony     28.938462      6.015385      3.830769  22.1   \n",
       "4  2008  Carmelo Anthony     25.688312      7.415584      3.363636  21.1   \n",
=======
       "   Year           Player  Pts Per Game  Reb Per Game  Ast Per Game  \\\n",
       "0  2004  Carmelo Anthony     21.036585      6.073171      2.768293   \n",
       "1  2005  Carmelo Anthony     20.773333      5.680000      2.586667   \n",
       "2  2006  Carmelo Anthony     26.525000      4.925000      2.700000   \n",
       "3  2007  Carmelo Anthony     28.938462      6.015385      3.830769   \n",
       "4  2008  Carmelo Anthony     25.688312      7.415584      3.363636   \n",
>>>>>>> 7638e37458405f05872cdd818afde27ef232e592
       "\n",
       "   Contract year  Avg Annual  \n",
       "0           2017  26,243,760  \n",
       "1           2017  26,243,760  \n",
       "2           2017  26,243,760  \n",
       "3           2017  26,243,760  \n",
       "4           2017  26,243,760  "
      ]
     },
     "execution_count": 9,
     "metadata": {},
     "output_type": "execute_result"
    }
   ],
   "source": [
<<<<<<< HEAD
    "filt_merge = merge_df[[\"Year\", \"Player\", \"Pts Per Game\", \"Reb Per Game\", \"Ast Per Game\",\"PER\", \"Contract year\", \"Avg Annual\"]]\n",
=======
    "filt_merge = merge_df[[\"Year\", \"Player\", \"Pts Per Game\", \"Reb Per Game\", \"Ast Per Game\", \"Contract year\", \"Avg Annual\"]]\n",
>>>>>>> 7638e37458405f05872cdd818afde27ef232e592
    "filt_merge.head()"
   ]
  },
  {
   "cell_type": "code",
   "execution_count": 10,
   "metadata": {},
   "outputs": [
    {
     "data": {
      "text/html": [
       "<div>\n",
       "<style scoped>\n",
       "    .dataframe tbody tr th:only-of-type {\n",
       "        vertical-align: middle;\n",
       "    }\n",
       "\n",
       "    .dataframe tbody tr th {\n",
       "        vertical-align: top;\n",
       "    }\n",
       "\n",
       "    .dataframe thead th {\n",
       "        text-align: right;\n",
       "    }\n",
       "</style>\n",
       "<table border=\"1\" class=\"dataframe\">\n",
       "  <thead>\n",
       "    <tr style=\"text-align: right;\">\n",
       "      <th></th>\n",
       "      <th>Year</th>\n",
       "      <th>Player</th>\n",
       "      <th>Pts Per Game</th>\n",
       "      <th>Reb Per Game</th>\n",
       "      <th>Ast Per Game</th>\n",
<<<<<<< HEAD
       "      <th>PER</th>\n",
=======
>>>>>>> 7638e37458405f05872cdd818afde27ef232e592
       "      <th>Contract year</th>\n",
       "      <th>Avg Annual</th>\n",
       "    </tr>\n",
       "  </thead>\n",
       "  <tbody>\n",
       "    <tr>\n",
       "      <th>13</th>\n",
       "      <td>2015</td>\n",
       "      <td>Carmelo Anthony</td>\n",
       "      <td>24.1</td>\n",
       "      <td>6.6</td>\n",
       "      <td>3.0</td>\n",
<<<<<<< HEAD
       "      <td>21.5</td>\n",
=======
>>>>>>> 7638e37458405f05872cdd818afde27ef232e592
       "      <td>2017</td>\n",
       "      <td>26,243,760</td>\n",
       "    </tr>\n",
       "    <tr>\n",
       "      <th>14</th>\n",
       "      <td>2016</td>\n",
       "      <td>Carmelo Anthony</td>\n",
       "      <td>21.8</td>\n",
       "      <td>7.7</td>\n",
       "      <td>4.2</td>\n",
<<<<<<< HEAD
       "      <td>20.3</td>\n",
=======
>>>>>>> 7638e37458405f05872cdd818afde27ef232e592
       "      <td>2017</td>\n",
       "      <td>26,243,760</td>\n",
       "    </tr>\n",
       "    <tr>\n",
       "      <th>15</th>\n",
       "      <td>2017</td>\n",
       "      <td>Carmelo Anthony</td>\n",
       "      <td>22.4</td>\n",
       "      <td>5.9</td>\n",
       "      <td>2.9</td>\n",
<<<<<<< HEAD
       "      <td>17.9</td>\n",
=======
>>>>>>> 7638e37458405f05872cdd818afde27ef232e592
       "      <td>2017</td>\n",
       "      <td>26,243,760</td>\n",
       "    </tr>\n",
       "    <tr>\n",
       "      <th>16</th>\n",
       "      <td>2018</td>\n",
       "      <td>Carmelo Anthony</td>\n",
       "      <td>16.2</td>\n",
       "      <td>5.8</td>\n",
       "      <td>1.3</td>\n",
<<<<<<< HEAD
       "      <td>12.7</td>\n",
=======
>>>>>>> 7638e37458405f05872cdd818afde27ef232e592
       "      <td>2017</td>\n",
       "      <td>26,243,760</td>\n",
       "    </tr>\n",
       "    <tr>\n",
       "      <th>17</th>\n",
       "      <td>2019</td>\n",
       "      <td>Carmelo Anthony</td>\n",
       "      <td>13.4</td>\n",
       "      <td>5.4</td>\n",
       "      <td>0.5</td>\n",
<<<<<<< HEAD
       "      <td>10.9</td>\n",
=======
>>>>>>> 7638e37458405f05872cdd818afde27ef232e592
       "      <td>2017</td>\n",
       "      <td>26,243,760</td>\n",
       "    </tr>\n",
       "  </tbody>\n",
       "</table>\n",
       "</div>"
      ],
      "text/plain": [
<<<<<<< HEAD
       "    Year           Player  Pts Per Game  Reb Per Game  Ast Per Game  PER  \\\n",
       "13  2015  Carmelo Anthony          24.1           6.6           3.0 21.5   \n",
       "14  2016  Carmelo Anthony          21.8           7.7           4.2 20.3   \n",
       "15  2017  Carmelo Anthony          22.4           5.9           2.9 17.9   \n",
       "16  2018  Carmelo Anthony          16.2           5.8           1.3 12.7   \n",
       "17  2019  Carmelo Anthony          13.4           5.4           0.5 10.9   \n",
=======
       "    Year           Player  Pts Per Game  Reb Per Game  Ast Per Game  \\\n",
       "13  2015  Carmelo Anthony          24.1           6.6           3.0   \n",
       "14  2016  Carmelo Anthony          21.8           7.7           4.2   \n",
       "15  2017  Carmelo Anthony          22.4           5.9           2.9   \n",
       "16  2018  Carmelo Anthony          16.2           5.8           1.3   \n",
       "17  2019  Carmelo Anthony          13.4           5.4           0.5   \n",
>>>>>>> 7638e37458405f05872cdd818afde27ef232e592
       "\n",
       "    Contract year  Avg Annual  \n",
       "13           2017  26,243,760  \n",
       "14           2017  26,243,760  \n",
       "15           2017  26,243,760  \n",
       "16           2017  26,243,760  \n",
       "17           2017  26,243,760  "
      ]
     },
     "execution_count": 10,
     "metadata": {},
     "output_type": "execute_result"
    }
   ],
   "source": [
    "reduced_df = filt_merge.loc[filt_merge[\"Year\"] > 2014.0]\n",
    "pd.options.display.float_format = \"{:,.1f}\".format\n",
    "reduced_df.head()                           "
   ]
  },
  {
   "cell_type": "code",
   "execution_count": 11,
   "metadata": {},
   "outputs": [
    {
     "data": {
      "text/html": [
       "<div>\n",
       "<style scoped>\n",
       "    .dataframe tbody tr th:only-of-type {\n",
       "        vertical-align: middle;\n",
       "    }\n",
       "\n",
       "    .dataframe tbody tr th {\n",
       "        vertical-align: top;\n",
       "    }\n",
       "\n",
       "    .dataframe thead th {\n",
       "        text-align: right;\n",
       "    }\n",
       "</style>\n",
       "<table border=\"1\" class=\"dataframe\">\n",
       "  <thead>\n",
       "    <tr style=\"text-align: right;\">\n",
       "      <th></th>\n",
       "      <th>Year</th>\n",
       "      <th>Player</th>\n",
       "      <th>Pts Per Game</th>\n",
       "      <th>Reb Per Game</th>\n",
       "      <th>Ast Per Game</th>\n",
<<<<<<< HEAD
       "      <th>PER</th>\n",
=======
>>>>>>> 7638e37458405f05872cdd818afde27ef232e592
       "      <th>Contract year</th>\n",
       "      <th>Avg Annual</th>\n",
       "    </tr>\n",
       "  </thead>\n",
       "  <tbody>\n",
       "    <tr>\n",
       "      <th>125</th>\n",
       "      <td>2019</td>\n",
       "      <td>Kevin Durant</td>\n",
       "      <td>26.0</td>\n",
       "      <td>6.4</td>\n",
       "      <td>5.9</td>\n",
<<<<<<< HEAD
       "      <td>24.2</td>\n",
=======
>>>>>>> 7638e37458405f05872cdd818afde27ef232e592
       "      <td>2016</td>\n",
       "      <td>41,063,925</td>\n",
       "    </tr>\n",
       "    <tr>\n",
       "      <th>121</th>\n",
       "      <td>2015</td>\n",
       "      <td>Kevin Durant</td>\n",
       "      <td>25.4</td>\n",
       "      <td>6.6</td>\n",
       "      <td>4.1</td>\n",
<<<<<<< HEAD
       "      <td>27.6</td>\n",
=======
>>>>>>> 7638e37458405f05872cdd818afde27ef232e592
       "      <td>2016</td>\n",
       "      <td>41,063,925</td>\n",
       "    </tr>\n",
       "    <tr>\n",
       "      <th>123</th>\n",
       "      <td>2017</td>\n",
       "      <td>Kevin Durant</td>\n",
       "      <td>25.1</td>\n",
       "      <td>8.3</td>\n",
       "      <td>4.8</td>\n",
<<<<<<< HEAD
       "      <td>27.6</td>\n",
=======
>>>>>>> 7638e37458405f05872cdd818afde27ef232e592
       "      <td>2016</td>\n",
       "      <td>41,063,925</td>\n",
       "    </tr>\n",
       "    <tr>\n",
       "      <th>124</th>\n",
       "      <td>2018</td>\n",
       "      <td>Kevin Durant</td>\n",
       "      <td>26.4</td>\n",
       "      <td>6.8</td>\n",
       "      <td>5.4</td>\n",
<<<<<<< HEAD
       "      <td>26.0</td>\n",
=======
>>>>>>> 7638e37458405f05872cdd818afde27ef232e592
       "      <td>2016</td>\n",
       "      <td>41,063,925</td>\n",
       "    </tr>\n",
       "    <tr>\n",
       "      <th>122</th>\n",
       "      <td>2016</td>\n",
       "      <td>Kevin Durant</td>\n",
       "      <td>28.2</td>\n",
       "      <td>8.2</td>\n",
       "      <td>5.0</td>\n",
<<<<<<< HEAD
       "      <td>28.2</td>\n",
=======
>>>>>>> 7638e37458405f05872cdd818afde27ef232e592
       "      <td>2016</td>\n",
       "      <td>41,063,925</td>\n",
       "    </tr>\n",
       "  </tbody>\n",
       "</table>\n",
       "</div>"
      ],
      "text/plain": [
<<<<<<< HEAD
       "     Year        Player  Pts Per Game  Reb Per Game  Ast Per Game  PER  \\\n",
       "125  2019  Kevin Durant          26.0           6.4           5.9 24.2   \n",
       "121  2015  Kevin Durant          25.4           6.6           4.1 27.6   \n",
       "123  2017  Kevin Durant          25.1           8.3           4.8 27.6   \n",
       "124  2018  Kevin Durant          26.4           6.8           5.4 26.0   \n",
       "122  2016  Kevin Durant          28.2           8.2           5.0 28.2   \n",
=======
       "     Year        Player  Pts Per Game  Reb Per Game  Ast Per Game  \\\n",
       "125  2019  Kevin Durant          26.0           6.4           5.9   \n",
       "121  2015  Kevin Durant          25.4           6.6           4.1   \n",
       "123  2017  Kevin Durant          25.1           8.3           4.8   \n",
       "124  2018  Kevin Durant          26.4           6.8           5.4   \n",
       "122  2016  Kevin Durant          28.2           8.2           5.0   \n",
>>>>>>> 7638e37458405f05872cdd818afde27ef232e592
       "\n",
       "     Contract year  Avg Annual  \n",
       "125           2016  41,063,925  \n",
       "121           2016  41,063,925  \n",
       "123           2016  41,063,925  \n",
       "124           2016  41,063,925  \n",
       "122           2016  41,063,925  "
      ]
     },
     "execution_count": 11,
     "metadata": {},
     "output_type": "execute_result"
    }
   ],
   "source": [
    "money = reduced_df.sort_values(\"Avg Annual\", ascending=False)\n",
    "money.head()"
   ]
  },
  {
   "cell_type": "code",
   "execution_count": 12,
   "metadata": {},
<<<<<<< HEAD
   "outputs": [],
=======
   "outputs": [
    {
     "data": {
      "text/html": [
       "<div>\n",
       "<style scoped>\n",
       "    .dataframe tbody tr th:only-of-type {\n",
       "        vertical-align: middle;\n",
       "    }\n",
       "\n",
       "    .dataframe tbody tr th {\n",
       "        vertical-align: top;\n",
       "    }\n",
       "\n",
       "    .dataframe thead th {\n",
       "        text-align: right;\n",
       "    }\n",
       "</style>\n",
       "<table border=\"1\" class=\"dataframe\">\n",
       "  <thead>\n",
       "    <tr style=\"text-align: right;\">\n",
       "      <th></th>\n",
       "      <th>Year</th>\n",
       "      <th>Player</th>\n",
       "      <th>Pts Per Game</th>\n",
       "      <th>Reb Per Game</th>\n",
       "      <th>Ast Per Game</th>\n",
       "      <th>Contract year</th>\n",
       "      <th>Avg Annual</th>\n",
       "    </tr>\n",
       "  </thead>\n",
       "  <tbody>\n",
       "    <tr>\n",
       "      <th>17</th>\n",
       "      <td>2019</td>\n",
       "      <td>Carmelo Anthony</td>\n",
       "      <td>13.4</td>\n",
       "      <td>5.4</td>\n",
       "      <td>0.5</td>\n",
       "      <td>2017</td>\n",
       "      <td>26,243,760</td>\n",
       "    </tr>\n",
       "    <tr>\n",
       "      <th>46</th>\n",
       "      <td>2019</td>\n",
       "      <td>LeBron James</td>\n",
       "      <td>27.4</td>\n",
       "      <td>8.5</td>\n",
       "      <td>8.3</td>\n",
       "      <td>2017</td>\n",
       "      <td>33,285,709</td>\n",
       "    </tr>\n",
       "    <tr>\n",
       "      <th>61</th>\n",
       "      <td>2019</td>\n",
       "      <td>Dwight Howard</td>\n",
       "      <td>12.8</td>\n",
       "      <td>9.2</td>\n",
       "      <td>0.4</td>\n",
       "      <td>2017</td>\n",
       "      <td>23,500,500</td>\n",
       "    </tr>\n",
       "    <tr>\n",
       "      <th>75</th>\n",
       "      <td>2019</td>\n",
       "      <td>Chris Paul</td>\n",
       "      <td>15.6</td>\n",
       "      <td>4.6</td>\n",
       "      <td>8.2</td>\n",
       "      <td>2017</td>\n",
       "      <td>24,599,495</td>\n",
       "    </tr>\n",
       "    <tr>\n",
       "      <th>88</th>\n",
       "      <td>2019</td>\n",
       "      <td>LaMarcus Aldridge</td>\n",
       "      <td>21.3</td>\n",
       "      <td>9.2</td>\n",
       "      <td>2.4</td>\n",
       "      <td>2017</td>\n",
       "      <td>21,461,010</td>\n",
       "    </tr>\n",
       "  </tbody>\n",
       "</table>\n",
       "</div>"
      ],
      "text/plain": [
       "    Year             Player  Pts Per Game  Reb Per Game  Ast Per Game  \\\n",
       "17  2019    Carmelo Anthony          13.4           5.4           0.5   \n",
       "46  2019       LeBron James          27.4           8.5           8.3   \n",
       "61  2019      Dwight Howard          12.8           9.2           0.4   \n",
       "75  2019         Chris Paul          15.6           4.6           8.2   \n",
       "88  2019  LaMarcus Aldridge          21.3           9.2           2.4   \n",
       "\n",
       "    Contract year  Avg Annual  \n",
       "17           2017  26,243,760  \n",
       "46           2017  33,285,709  \n",
       "61           2017  23,500,500  \n",
       "75           2017  24,599,495  \n",
       "88           2017  21,461,010  "
      ]
     },
     "execution_count": 12,
     "metadata": {},
     "output_type": "execute_result"
    }
   ],
>>>>>>> 7638e37458405f05872cdd818afde27ef232e592
   "source": [
    "nba2k17 = reduced_df.loc[reduced_df[\"Year\"] == 2017, :]\n",
    "nba2k15 = reduced_df.loc[reduced_df[\"Year\"] == 2015, :]\n",
    "nba2k16 = reduced_df.loc[reduced_df[\"Year\"] == 2016, :]\n",
    "nba2k18 = reduced_df.loc[reduced_df[\"Year\"] == 2018, :]\n",
<<<<<<< HEAD
    "nba2k19 = reduced_df.loc[reduced_df[\"Year\"] == 2019, :]\n"
=======
    "nba2k19 = reduced_df.loc[reduced_df[\"Year\"] == 2019, :]\n",
    "nba2k19.head()"
>>>>>>> 7638e37458405f05872cdd818afde27ef232e592
   ]
  },
  {
   "cell_type": "code",
   "execution_count": 13,
   "metadata": {},
   "outputs": [
    {
     "name": "stderr",
     "output_type": "stream",
     "text": [
      "C:\\Users\\Smokey\\anaconda3\\lib\\site-packages\\ipykernel_launcher.py:1: SettingWithCopyWarning: \n",
      "A value is trying to be set on a copy of a slice from a DataFrame\n",
      "\n",
      "See the caveats in the documentation: https://pandas.pydata.org/pandas-docs/stable/user_guide/indexing.html#returning-a-view-versus-a-copy\n",
      "  \"\"\"Entry point for launching an IPython kernel.\n"
     ]
    },
    {
     "data": {
      "text/html": [
       "<div>\n",
       "<style scoped>\n",
       "    .dataframe tbody tr th:only-of-type {\n",
       "        vertical-align: middle;\n",
       "    }\n",
       "\n",
       "    .dataframe tbody tr th {\n",
       "        vertical-align: top;\n",
       "    }\n",
       "\n",
       "    .dataframe thead th {\n",
       "        text-align: right;\n",
       "    }\n",
       "</style>\n",
       "<table border=\"1\" class=\"dataframe\">\n",
       "  <thead>\n",
       "    <tr style=\"text-align: right;\">\n",
       "      <th></th>\n",
       "      <th>Year</th>\n",
       "      <th>Player</th>\n",
       "      <th>Pts Per Game</th>\n",
       "      <th>Reb Per Game</th>\n",
       "      <th>Ast Per Game</th>\n",
<<<<<<< HEAD
       "      <th>PER</th>\n",
=======
>>>>>>> 7638e37458405f05872cdd818afde27ef232e592
       "      <th>Contract year</th>\n",
       "      <th>Avg Annual</th>\n",
       "    </tr>\n",
       "  </thead>\n",
       "  <tbody>\n",
       "    <tr>\n",
       "      <th>16</th>\n",
       "      <td>2018</td>\n",
       "      <td>Carmelo Anthony</td>\n",
       "      <td>16.2</td>\n",
       "      <td>5.8</td>\n",
       "      <td>1.3</td>\n",
<<<<<<< HEAD
       "      <td>12.7</td>\n",
=======
>>>>>>> 7638e37458405f05872cdd818afde27ef232e592
       "      <td>2017</td>\n",
       "      <td>26,243,760</td>\n",
       "    </tr>\n",
       "    <tr>\n",
       "      <th>45</th>\n",
       "      <td>2018</td>\n",
       "      <td>LeBron James</td>\n",
       "      <td>27.5</td>\n",
       "      <td>8.6</td>\n",
       "      <td>9.1</td>\n",
<<<<<<< HEAD
       "      <td>28.6</td>\n",
=======
>>>>>>> 7638e37458405f05872cdd818afde27ef232e592
       "      <td>2017</td>\n",
       "      <td>33,285,709</td>\n",
       "    </tr>\n",
       "    <tr>\n",
       "      <th>60</th>\n",
       "      <td>2018</td>\n",
       "      <td>Dwight Howard</td>\n",
       "      <td>16.6</td>\n",
       "      <td>12.5</td>\n",
       "      <td>1.3</td>\n",
<<<<<<< HEAD
       "      <td>20.5</td>\n",
=======
>>>>>>> 7638e37458405f05872cdd818afde27ef232e592
       "      <td>2017</td>\n",
       "      <td>23,500,500</td>\n",
       "    </tr>\n",
       "    <tr>\n",
       "      <th>74</th>\n",
       "      <td>2018</td>\n",
       "      <td>Chris Paul</td>\n",
       "      <td>18.6</td>\n",
       "      <td>5.4</td>\n",
       "      <td>7.9</td>\n",
<<<<<<< HEAD
       "      <td>24.4</td>\n",
=======
>>>>>>> 7638e37458405f05872cdd818afde27ef232e592
       "      <td>2017</td>\n",
       "      <td>24,599,495</td>\n",
       "    </tr>\n",
       "    <tr>\n",
       "      <th>87</th>\n",
       "      <td>2018</td>\n",
       "      <td>LaMarcus Aldridge</td>\n",
       "      <td>23.1</td>\n",
       "      <td>8.5</td>\n",
       "      <td>2.0</td>\n",
<<<<<<< HEAD
       "      <td>25.0</td>\n",
=======
>>>>>>> 7638e37458405f05872cdd818afde27ef232e592
       "      <td>2017</td>\n",
       "      <td>21,461,010</td>\n",
       "    </tr>\n",
       "  </tbody>\n",
       "</table>\n",
       "</div>"
      ],
      "text/plain": [
<<<<<<< HEAD
       "    Year             Player  Pts Per Game  Reb Per Game  Ast Per Game  PER  \\\n",
       "16  2018    Carmelo Anthony          16.2           5.8           1.3 12.7   \n",
       "45  2018       LeBron James          27.5           8.6           9.1 28.6   \n",
       "60  2018      Dwight Howard          16.6          12.5           1.3 20.5   \n",
       "74  2018         Chris Paul          18.6           5.4           7.9 24.4   \n",
       "87  2018  LaMarcus Aldridge          23.1           8.5           2.0 25.0   \n",
=======
       "    Year             Player  Pts Per Game  Reb Per Game  Ast Per Game  \\\n",
       "16  2018    Carmelo Anthony          16.2           5.8           1.3   \n",
       "45  2018       LeBron James          27.5           8.6           9.1   \n",
       "60  2018      Dwight Howard          16.6          12.5           1.3   \n",
       "74  2018         Chris Paul          18.6           5.4           7.9   \n",
       "87  2018  LaMarcus Aldridge          23.1           8.5           2.0   \n",
>>>>>>> 7638e37458405f05872cdd818afde27ef232e592
       "\n",
       "    Contract year  Avg Annual  \n",
       "16           2017  26,243,760  \n",
       "45           2017  33,285,709  \n",
       "60           2017  23,500,500  \n",
       "74           2017  24,599,495  \n",
       "87           2017  21,461,010  "
      ]
     },
     "execution_count": 13,
     "metadata": {},
     "output_type": "execute_result"
    }
   ],
   "source": [
    "nba2k18.drop_duplicates(subset=\"Player\", keep=\"first\", inplace=True)\n",
    "nba2k18.head()"
   ]
  },
  {
   "cell_type": "code",
   "execution_count": 14,
   "metadata": {},
   "outputs": [
    {
     "data": {
      "text/plain": [
<<<<<<< HEAD
       "([<matplotlib.patches.Wedge at 0x141c91fbf48>,\n",
       "  <matplotlib.patches.Wedge at 0x141c920dbc8>,\n",
       "  <matplotlib.patches.Wedge at 0x141c9217808>],\n",
=======
       "([<matplotlib.patches.Wedge at 0x206c2604348>,\n",
       "  <matplotlib.patches.Wedge at 0x206c2604f48>,\n",
       "  <matplotlib.patches.Wedge at 0x206c2617b88>],\n",
>>>>>>> 7638e37458405f05872cdd818afde27ef232e592
       " [Text(-0.6069604411311755, -0.9173870627504231, '2017'),\n",
       "  Text(1.019596003389483, 0.41282440561598754, '2016'),\n",
       "  Text(-0.2945523839220819, 1.05982965288098, '2018')],\n",
       " [Text(-0.33106933152609574, -0.5003929433184126, '53.6%'),\n",
       "  Text(0.5561432745760816, 0.22517694851781137, '27.2%'),\n",
       "  Text(-0.16066493668477191, 0.5780889015714437, '19.1%')])"
      ]
     },
     "execution_count": 14,
     "metadata": {},
     "output_type": "execute_result"
    },
    {
     "data": {
      "image/png": "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\n",
      "text/plain": [
       "<Figure size 432x288 with 1 Axes>"
      ]
     },
     "metadata": {},
     "output_type": "display_data"
    }
   ],
   "source": [
    "years = reduced_df[\"Contract year\"].value_counts()\n",
    "colors = [\"red\", \"orange\", \"blue\"]\n",
    "labels = [\"2017\", \"2016\", \"2018\"]\n",
    "plt.pie(years, labels=labels, colors=colors,\n",
    "        autopct=\"%1.1f%%\", shadow=True, startangle=140)"
   ]
  },
  {
   "cell_type": "code",
<<<<<<< HEAD
   "execution_count": 18,
=======
   "execution_count": 15,
>>>>>>> 7638e37458405f05872cdd818afde27ef232e592
   "metadata": {},
   "outputs": [],
   "source": [
    "nba2k15 = nba2k15.sort_values(\"Avg Annual\")\n",
    "nba2k16 = nba2k15.sort_values(\"Avg Annual\")\n",
    "nba2k17 = nba2k15.sort_values(\"Avg Annual\")\n",
    "nba2k18 = nba2k15.sort_values(\"Avg Annual\")\n",
    "nba2k19 = nba2k15.sort_values(\"Avg Annual\")"
   ]
  },
  {
   "cell_type": "code",
<<<<<<< HEAD
   "execution_count": null,
   "metadata": {},
   "outputs": [],
   "source": []
  },
  {
   "cell_type": "code",
   "execution_count": null,
   "metadata": {},
   "outputs": [],
   "source": [
    "plt.scatter(nba2k16.iloc[:,5], nba2k16.iloc[:,7])\n",
    "plt.ylabel('PER')\n",
    "plt.xlabel('Avg Annual')\n",
=======
   "execution_count": 37,
   "metadata": {},
   "outputs": [
    {
     "data": {
      "image/png": "iVBORw0KGgoAAAANSUhEUgAAAbYAAAEGCAYAAAAJw7AFAAAABHNCSVQICAgIfAhkiAAAAAlwSFlzAAALEgAACxIB0t1+/AAAADh0RVh0U29mdHdhcmUAbWF0cGxvdGxpYiB2ZXJzaW9uMy4xLjMsIGh0dHA6Ly9tYXRwbG90bGliLm9yZy+AADFEAAAgAElEQVR4nOydeZhcVbW+348kYJgMQxBIwIBMIjMIeJHBoICITKKAKIOgMoniJUpEvQqXCxL9oYiCiEyKFxAZIoMhMosgEjIyB0RI4BqmgEiMJPl+f+x90ieVmjrp6q7uXu/z9NNV+5y9zq6TajZ7n/V9S7YJgiAIgr7CMj09gCAIgiDoSmJiC4IgCPoUMbEFQRAEfYqY2IIgCII+RUxsQRAEQZ9iYE8PoC+y+uqre8SIET09jCAIgl7FhAkTXrY9dGnjxMTWAkaMGMFDDz3U08MIgiDoVUj6W1fEia3IIAiCoE8RE1sQBEHQp4iJLQiCIOhTxMQWBEEQ9CliYguCIAj6FDGxBUEQBH2KmNiCIAiCPkVMbEEQBEGfIia2IAiCoE8RE1sQBEHQp4iJLQiCIOhTtHxikzRA0kRJN+X3J0qaLsmSVq/Tb3Q+7wlJe5bah0i6VtLjkh6T9IHcfoakKZImSbpN0tpVYi4r6VJJUyVNlrRbbl9e0s055iOSzi71OVLSSznuJEnHdOHtCYKgj3HDxJnsdPYdrHfqzex09h3cMHFmTw+p39EdK7YvA4+V3t8HfBioaXYpaVPgEOB9wF7ATyUNyId/BPze9ibAlqXYY2xvYXsr4Cbg21VCfx7A9ubAR4AfSCruwfdzzK2BnSR9tNTvattb5Z+Lm/3gQRD0L26YOJPR101l5uw5GJg5ew6jr5sak1s309KJTdJw4GPAwsnA9kTbzzbouh9wle25tv8KTAe2l7QysAvwixzr37Zn59dvlPqvALhK3E2B2/P5s4DZwHa237J9ZxETeBgY3smPGwRBP2fMuCeY8/b8RdrmvD2fMeOe6KER9U9avWL7IfA1YEEn+w0Dni+9n5Hb1gdeAi7N25sXS1qhOEnSmZKeBw6j+optMrCfpIGS1gO2BdYpnyBpCPBx8gSY+UTe5rxW0iLnl/p9QdJDkh566aWXOvlxgyDoC7wwe06n2oPW0LKJTdI+wCzbE5ake5U2k+rHbQNcYHtr4J/AqQtPsE+zvQ5wJXBilRiXkCbJh0iT7p+AeaUxDwT+FzjP9jO5+XfACNtbAH8ALq82YNsX2d7O9nZDhy51nbwgCHohaw8Z3Kn2oDW0csW2E7CvpGeBq4CRkn7VZN8ZLLqSGg68kNtn2P5zbr+WNNFV8mvgE5WNtufZPjk/K9sPGAI8VTrlIuAp2z8s9XnF9tz89uekVV4QBMFijNpzYwYPGrBI2+BBAxi158Y9NKL+ScsmNtujbQ+3PYKUCHKH7c/UOl/S9pKuyG/HAodIWi5vGW4IPGj7/4DnJRXfkt2BR3P/DUvh9gUer4ybsx9XyK8/AsyzXfT/b+CdwFcqxrVWRdxyIkwQBMFC9t96GGcduDnDhgxGwLAhgznrwM3Zf+thPT20fsXA7r6gpJNIz93WBKZIusX2McC6wBwA249IuoY0ac0DTrBdPJH9EnClpGWBZ4CjcvvZecJbQMq4PDa3L4wLrAGMk7QAmAl8No9pOHAaaTJ8WBLA+TkD8iRJ++ZxvAoc2bV3JAiCvsT+Ww+LiayHkV0tebD7kTQG+KXtKb0hbj222247P/TQQ911uSAIgj6BpAm2t1vaON2+YquF7VG9KW4QBEHQnrQyK/Idkh7MDh+PSPpuxfEfS3qzTv/dstPHI5LuLrWfnNumSfpfSe/I7Vdml5Jpki6RNKhKzBGS5pRcRC4sHbsr9y+OrZHbl5N0dXZB+bOkEUt/d4Ig6E7CDaR/0cqsyLnASNtbAlsBe0naEUDSdqSMxKpkLdlPgX1tvw/4ZG4fBpxEElVvBgwgJaZASvHfBNgcGAzUsr56uuQicmzFscNKx2bltqOB12xvAJwLfK/5WxAEQU8TbiD9j1ZmRdp2sSIblH+crbHGkBJIavFp4Drbz+VYs0rHBgKDs+ZseZIMANu35GsaeJCucw7Zjw7t2rXA7srZJUEQtD/hBtL/aLWl1gBJk4BZwPisPzsRGGv7xTpdNwJWyduDEyQdDmB7JvB94DngReB127dVXHMQKdvx9zVir5ddS+6WtHPFsUvzNuS3SpPXQhcU2/OA14HVqnzWcB4JgjYk3ED6Hy2d2GzPz6bEw0lej7uQthV/3KDrQJIQ+mPAnsC3JG0kaRXSCmo9YG1gBUmV2rifAvfYvrdK3BeBdbNryVeBX2f/SUjbkJsDO+efz+b2Wi4olZ81nEeCoA0JN5D+R7fUY8tGxXcBHwI2AKZnR5LlJU2v0mUGycH/n7ZfBu4hOfl/GPir7Zdsvw1cB/xH0UnSfwFDSZNWtXHMtf1Kfj0BeJq0OixWg9j+B8m5ZPvSWNbJ8QeSRNyvLtGNCIKg2wk3kP5HK7Mih+YkECQNJk1KE2yvaXtEdiR5KydlIOkASWfl7jcCO2ez4uWBHUiOH88BO2YHEZGcRx7L/Y8hre4Otb2gNI6y88jQ/IwPSeuTHE2eyddZPbcPAvYBpuUQY4Ej8uuDSA4q7SH+C4KgIeEG0v9opY5tLeDyPJEsA1xj+6Y6578HeAPA9mOSfg9MITmJXGx7GoCka0llZeYBE0n+jgAXkhxH7s+Px66zfTqLOo/sApwuaR4wHzjW9qvZZmtcntQGkMyOf577/AL4ZV5ZvkpHFmYQBL2EcAPpX7ST88ivgJNtd2nmRTiPBEEQ9A66ynmk2wXakn6R24r6ZisC2P5MMalJOiwfnyLpT5K2LMWtJdC+TNJfSwLrrXLcUcWkluNOKv0sKM6TtK2kqVmIfV6RFSlpS0n352O/KyWbBEEQBG1ITwi0T7a9Za5v9hzV66b9Fdg1n3MGebuxgUAbYFRJYD2pMqjtK4vjpKzHZ0vnXQB8gfTcbUNgr9x+MXBqzpi8HgiLriAIFiPcTdqHbhdo234DIK+IBlM9df5Ptl/Lbx9gUbF1VYH2EnAoqahoUZpmZdv358SQK4D983kbk7IyAcZTpc5bEAT9m3A3aS96QqCNpEuB/yNZYDXStB0N3ApNCbTPzNuX50parkHcg8kTG0mEPaN0bEZug5QduW9+/UkWLYAaBEEQ7iZtRncLtDfL7UeRBNaPkSaYqkj6EGli+3p+X0+gPZo0Ub4fWLXoUyPuDiSpQZHSX0+E/TngBEkTgJWAf9eIGc4jQdBPCXeT9qK7Bdp7ldrmA1dTY2tP0hak51v7FaJq6gi0bb+Ytz/nApfSIbCuxiF0rNYgrdDK253D6fCgfNz2Hra3zX2ervEZw3kkCPop4W7SXnS3QPsJSYUgW8DHSVWrFxFoS1qXNGl91vaTpbD1BNprleLuTxZYlwXa+f0ypC3Fq4q27Fv5D0k75v6Hk0TiqKN8zTLAN0l6uSAIgoWEu0l70a0CbeBm4N6cMi9gMnBcPn+hQBv4Nslo+Kc5635eXg39uY5A+0pJQ3PcSUBRkqYs0IYk0p5h+5mK8R4HXEZKaLk1/wAcKumE/Po60mowCIJgIYX4e8y4J3hh9hzWHjKYUXtuHKLwHiIE2i0gBNpBEASdp6sE2q1csXUK25Uu/V0VN3RnQRAE/YiecB45Mbt7uDAertL3I0p12Kbm3yNLx5aVdJGkJyU9LukTuf3dkm7P6f53SVqs0KikdSTdKemxPKYvl46dkftOknSbpLVz+ybZeWSupFO6+j4F7UMIbIOgb9DKFVvhPPKmkrnwHyXdCtwH3ETKkqzFy8DHbb+QJQLj6NCVnQbMsr1RTuhYNbd/H7jC9uV5IjyLjppqBfOA/7T9sKSVgAmSxtt+FBhj+1sAkk4iPec7lmR8fBIdgu2gD1IIbAstUiGwBeI5SRD0MnrCeWSi7Wcb9J1ou3AUeQR4R0lw/TnSpIXtBbleG8CmwO359Z0kvVtl3BdtP5xf/4OUUTksv3+jdOoKZB2b7Vm2/wK83dQHD3olIbANgr5DjziPdJJPABNtzy3kA8AZkh6W9BtJ78ptk+nQxB0ArCRptTpjGwFsDfy51HampOeBw0grtqYJgXbvJgS2QdB36BHnkWaR9D7ge8AXc9PAHOs+29sA95O2IAFOAXaVNBHYFZhJ2nqsFndF4LfAV8orNdun2V4HuJLq5sw1CYF27yYEtkHQd+gx55FG5OSP64HDbRduH68Ab+V2gN8A2+RrvGD7QNtbk57DYfv1KnEHkSa1K21fV+PyvybMjvsVIbANgr5DdzuPPF7n/IUOIbnfzcBo2/cV52Tn/d8Bu+Wm3YFHc5/VczIJJN/IS0qxC3cTkSpiP2b7/1Vcf8PS233rjTXoe+y/9TDOOnBzhg0ZjIBhQwZz1oGbR+JIEPRCutV5xPZNOePwa8CawBRJt9g+hkUdQk4ENgC+JelbuW0P27NI5sa/lPRD4CXgqHx8N+AsSSaVmTkB0oRHh8nxTqRMyan52R/AN2zfApwtaWNgAfA3snOJpDWBh4CVgQWSvgJsWpFsEvQB9t96WExkQdAHaCfnkZY4hEjaB1jf9nldGbce4TwSBEHQefqi80hLHEJs39SKuEEQBEF70spnbFVdPiRtmZ08pkr6XTZEruz7oewAUvz8S9L++diVkp6QNE3SJTkZBEmjSudPkzRf0qpVYh+cHUYekXROqX05SVdnV5Q/ZzlAcWx0bn9C0p5df7eCoHOES0oQ1KaVWZGFy8d7gR1JxTo3JdVYO9X25qTsxsVWarbvtL1VlgqMJGVCFpWyryQVFN2c5MR/TO4zptRnNHC37VfLcbOubQywu+33Ae+StHs+fDTwmu0NgHNJMgPymA8B3kfK6vxpfm4YBD1C4ZIyc/YcTIdLSkxuQZBopfNILZePjUnJHQDjaZxWfxBwq+23cqxbsquJgQdZtEBowaEsWki0YH3gyVIFgT+Urr8fcHl+fS2we86i3A+4yvZc238FplO/iGkQtJRwSQmC+nSLjq3C5WMaKZ0eUsHPdRp0r6x2XcQcRMpw/H1F+/KkldVvq8SaDmwiaYSkgST/x+L6w4DnAWzPA14n1YRb2J6ZQYdvZfm64TwSdAvhkhIE9Wn5xFbF5eNzpG3JCcBKwL/r9F2LtOU4rsrhnwL32L63ov3jJGeSVys72H6NVFD0auBe4Fk63ElUeT7JL7JWe2XscB4JuoVwSQmC+rTaK3Ixlw/bj9vew/a2pJXY03VCfAq43vYiBsSS/gsYCny1Sp+qK7wC27+zvYPtDwBPAE/lQzPIq7e8mnsnydl/YXtmOPACQdBDhEtKENSnlVmRVV0+JK2Rfy8DfBO4ML8fJun2ijCLPSuTdAywJ3Co7QUVx95J8om8saL9dknDKq6/CnA8KZkFYCxwRH59EHBHfo43FjgkZ02uB2xIerYXBD1CuKQEQX1aqWOr6vIBbCjphPz+OuDS/HotSqbF+bncOsDdFXEvJDmD3J/mTq6zfXo+dgBwm+1/luIsQ3IxKbYmfyRpy/z6dNtP5te/IDmaTM/nHgJg+xFJ15Csu+YBJ9he9Ml9EHQz4ZISBLVpJ+eRE4HnbI/t4ribAZ+zXW3bsiWE80gQBEHn6SrnkbYRaNs+vzypZYF1Ibgut5+YxdLOPpBF+2FZeD1F0p+KVZntaeVJLQTaQdAzhKg86C7aUqCdmVMIrm3vW2q/j1Qp4G8V5/8V2NX2FsAZwEWVAUOgHQQ9Q4jKg+6kNwi0K+NOtP1slfY/5XR+gAeoLtwOgXYQ9AAhKg+6k3YWaL8jC54fKHwiO8HRwK1V2kOgHQQ9QIjKg+6knQXa6+aHiJ8GfijpPU1e70Okie3rlcdCoB0EPUOIyoPupG0F2rZfyL+fAe4irfgaXW8L0jO8/Wy/UiNuCLSDoJsJUXnQnbSlQFvSKpKWy69XJ2niHm1wvXVJurjPlrRpxbEQaAdBDxKi8qA7aVeB9nuBn0laQJp8z7b9KICkk4CvAWsCUyTdYvsY4NukZ2I/zcLteba3C4F2ELQHISoPuosQaLeAEGgHQRB0nq4SaLdyxdYpbJ/forjTqG6WHARBEPRBesJ5ZKucwj8pp8cvpgnL6fhzSs4jF5aO/V7S5BzzwkIsLWlVSeMlPZV/r1JjXFtk55NHsvvJO3L7tvn9dEnn5WeETY03aC/C4SIIOk9f+rvpCeeRc4Dv2t6K9FzsnBr9ny45jxxbav+U7S2BzUilaz6Z208Fbre9IXB7fr8IOdvxV8Cx2XlkN6AoiXMB8AVScsiGJJcROjHeoA0Ih4sg6Dx97e+m4cQm6beSPpaTMJqmjvOIgZXzae+kk6nzWQsHaRt1WTo0ZWXnkMtJ4utK9gCm2J6cY71ie75SQdOVbd+fMyGvKPVfqvEG3Us4XARB5+lrfzfNTFYXkETST0k6W9Imnb1IhfPIV4Axkp4Hvg+MrtFtPUkTJd0taeeKeOOAWcA/SPZXAO+y/SKkSRVYo0rMjQBLGifpYUlfy+3DSHq1grK7SFPjDeeR9iAcLoKg8/S1v5uGE5vtP9g+DNiG5NQxXsk9/6gswK5LFeeR44CTba8DnExKs6/kRZLzyNakxI9fK1cByGPakyQPWA4Y2WgMJQYCHwQOy78PyCbI9dxFmhlvOI+0CeFwEQSdp6/93TS1vZhd8Y8EjgEmAj8iTXTjG/RbzHmEJIIuXv+GKobC2XD4lfx6AsmdZKOKc/5FEk/vl5v+nrcUyb9nVRnSDOBu2y/bfgu4JX+OGSxqmlx2F2k43qB9CIeLIOg8fe3vpplnbNeRfBWXBz5ue1/bV9v+ErBinX5VnUdIE8au+fVIsqWVpO0lXZFfDy1lO65PSuZ4RtKKpclrILA38HiOVXYOOQK4sTIuMA7YQtLyuf+uwKN56/IfknbM4z686F9rvEF7Eg4XQdB5+trfTV0dW04YmWT7wGrHGwjpajmPfJ7k/jEQ+BcpExFgXaDY0N0FOF3SPGA+KYvxVUnvAsZmu60BwB1kSy7gbOAaSUcDz9GRLbkwru3XJP0/4C+krcZbbN+czzsOuAwYTKoMUFQHqDXeoE0Jh4sg6Dx96e+mofOIpPuzYXBrByKNAX5pe0pviFuPcB4JgiDoPF3lPNLMM7bbJH2iECw3S2cF2rZHFZOPpI9ImpAF0xMkjSzFPVjSlBzznFL7u5XMjqdIukvS8Cpx3yHpwZLA+7ul/iNzpuQ0SZfnFVphyHx9jvugkkVXEARB29KXxNZLQjMT21dJSRNzJb0h6R+S3mjUiaUTaL9Mep63Oel52S9hYRLLGGD3LLB+V85qhJSKf4XtLYDTgbOqxJ0LjMwC762AvfJztWVI2rdDbG8G/I2O53XfIG3HbkF69vajJj57EARBj9DXxNZLQjPp/ivZXsb2srZXzu9XbqLfEgu0bU8s6rEBj5CqaS8HrA88absQiv0B+ER+vSnJcQTgTjqyJctxbfvN/HZQ/jGpKsDcktP/+GpxbT8OjMjP+oIgCNqOvia2XhKaTfdfJWcX7lL8dOYiSyjQLvgEMNH2XGA6sImSl+RAkjtIUQR0Mh2T0QHASnmFVzmWATmZZRYw3vafSSvEQZKKvd2DKuIemPtuD7ybRaUBRdwQaAdB0OP0NbH1ktBMuv8xwD2kVPnv5t/fafYCSyjQLvq+D/ge8EVIWY25/9UkCcKzdNRwOwXYVdJEUnr+zNKxhdien7dBhwPbS9os22gdApwr6UGSo0nR92xglTwZfomk46sWNwTaQRD0OH1NbL0kNLNi+zLwfuBvtj9EWnk1tSRZUoF27jscuB443PbTRbvt39neIWdqPkHWldl+wfaB2a3ktNz2eq2x2Z4N3EU2O84+kTvb3p40kRdx37B9VJ4MDycZL/+1mc8fBEHQ3fQ1sfWS0MzE9q/s8oGk5fJzpoZ3aCkF2kOAm4HRtu+riLtG/r0KcDxwcX6/ujqMmkcDl5T6PJ5/D82xkTQY+DBZ4F2KuxzwdbI+TtIQScvmUMcA95SMmIMgCNqKvia2XhKaKTQ6I08GN5B8Il+jOYf7pRFonwhsAHxL0rdy2x62Z+W+W+a200sJH7sBZ0kyacV1AqQJjw4vyLWAy5VcTZYBrrF9Uz42StI+uf0C23fk9vcCV0iaDzwKHN3EZw+CIOgx+pLYekloKNBe5GRpV1Im4+9t/7tLB9I6gfY+wPq2z+vKuPUIgXYQBEHn6SqBds0Vm6RVqzRPzb9XBF5d2ouXsT2qK+OV4t7U+KwgCIKgr1DvGdsE4KH8u/Kn4XKkjvPI1dl1ZJKkZ0vblOW+HyqdM0nSvyTtn4/9IjuHTJF0bc66LPc9SJJLqfvVxraypJmSzi+1bZudTqZLOi8/I0TSd/K5xVj2bvTZg9bQ390UgiBojporNtvrLWXswnnkYUkrARMkjbd9cHGCpB8Ai2Uu2r6T5AxSrBynA7flwycXyRtKhsYnklLyydc5iaSXq8cZwN0VbReQnvc9QCpnsxcdRsjn2v5+Mx86aA2Fm0IhPC3cFIB+/SwhCILFaZlAu47zSBFTwKeA/20Q6iDg1lw/jdKkJpITf/kh4Rkki65/1fks2wLvomOiLOq3rZxT/g1cQRJ/B21CuCkEQdAsLRdo5xgj6HAeKdgZ+LvtRvXNDqFi8pN0KfB/wCbAj3Pb1sA69Z6pZTnAD4DK53nDSMVGC2ZQmoSBE/PW5yVZZlAtdjiPtJBwUwiCoFlaKtCGqs4jBYfSYLWWV1KbkybThdg+ClibtAo8OE9Y5wL/2WA4x5NqsD1feakq5xYrwQuA95C2Rl8kTYyLnxzOIy0l3BSCIGiWlgm08/nVnEeK6tcHkqyx6vEp4Hrbb1cesD0/9/8EsBKwGXCXpGdJ1QTGVkkg+QBp9fUsyafycElnk1ZoZf/H4WStnu2/ZxuuBcDPqeGUErSWcFMIgqBZmpnYKgXaN9KEQLuO8whkxw/bM0rnD5N0e8V5i6zqlNigFP/jOc7rtle3PcL2CFICyL62HyrHtX2Y7XXzOaeQytycavtF4B9KJWxEss66MV9nrdJ4DgCmNfrsQdcTbgpBEDRLQ+cR2wfkl9+RdCdZoN1E7KrOI7ZvocpzM5IryEJz4fxcbh0WzV4UyTlk5fx6MskUuR6LxK3DccBlpISUW+nIiDxH0lakrclnyYbMQffT390UgiBojprOI5KWB94utgElbQzsTXrWdl3VTkszEOlE4DnbY3tD3HqE80gQBEHn6SrnkXpbkb8HRuSLbQDcTyr0eUJ+LtWl2D6/FZNPq+IGQRAE7Um9iW2VUir+EcD/2v4S8FHgY40CL6XzyLslTcjnPCLp2NKxg3Pq/SOSzqnoc3s+dpdS2Ztq4/qypGm5/1dK7VXHpVTUdE7p2IWNPnsQtCvh3hL0B+o9YyvvUY4ExgDY/rekBU3EXmLnEVJa/X/YnpvlAtMkjQXm5nFsa/slSZdL2t327aQsxytsXy5pJHAW6RnfQiRtRqousD3wb+D3km62/VSDcT2d67EFQa8l3FuC/kK9FdsUSd+XdDKphMxtsLBWWkOWxnnE9r9tz81vlyuNc33gSduFju4PpHR/gE2BIqvyTmC/KsN6L/CA7bdszyMlphxQPqETjihB0KsI95agv1BvYvs88DLpOdsehaUVaQLplG/ikjiP5K3MKcDzwPdsv0DyjNwkbw8OJNlerZO7TKZjkjsAWEnSahVhpwG7SFotJ8fsXepfb1zrSZoo6W5JO9cYbziPBG1NuLcE/YV6JshzyObCFe1/Av7U7AWW1Hkku4NsIWlt4AZJ19r+u6TjSMLsBXkc6+cupwDnSzqSZAE2k4o0f9uPSfoeMB54kzQZVkoBKsf1IrCu7VeUfCZvkPS+yirati8CLoKUFVnvngRBT7D2kMHMrDKJhXtL0NdoygR5SekC5xHySu0R0koK27+zvYPtDwBPAE8V59k+0PbWwGm5rVrlgF/Y3sb2LqSacgtXZtXGZXuu7Vfy6wnA08BGnboRQdAGhHtL0F9o2cS2NM4jkoZLGpxfr0ISez+R369Raj8euDi/X13JMxJgNHBJKfbjpddF/3VJk1h5dVZtXEMlDciv1wc2BJ5ZknsSBD1JuLcE/YWGziMFklaw/c9OxF4a55H3Aj+QZJLDyPdtF9W7fyRpy/z6dNtP5te7AWflPvcAJ+Rxr86iJse/zc/e3gZOsP1a6Vi1ce0CnC5pHjAfONZ2l1YPD4LuItxbgv5ATeeRhSdI/0FaFa1oe908qXzR9vFdOpDWOY/sA6xv+7yujFuPcB4JgiDoPN3hPFJwLrAnUDxnmkxaxdSllkA7H/uSpCfKIuuyQ4ikrSTdn49PkXRwlfg/lvRm6f2xkqZmEfUfJW2a495UTGqSPlQSWk+S9C9J++djknSmpCfzmE8qtZ8naXoeyzZN3LMgCHoBIVjvmzS1FWn7+fTIbCHza51boqpAm1S9ej9giyzAXqNK37eAw20/lbMiJ0gaZ3s2gFI5mko93a9tX5iP7wv8P2Cvis9xJ6muGpJWJckHikraR5JS/zexvaA0ro+SnqttCOxAqs+2QxOfPwiCNiYE632XZlZsz+ftSEtaVtIpJLF1XeoItI8Dzi4E2LZnVen7ZKEjy1mRs4ChADmRYwzwtYo+5fT7FVjUOaUaBwG3lvR5x5Ge2S2oGNd+JEcT234AGKJFS9kEQdALCcF636WZie1YUiLGMFJBzq3y+6apEGhvBOws6c9Z8Pz+Bn23B5YlpdkDnAiMzTXUKs89QdLTwDnASQ2GVZko8h5SNe6HJN0qacPcPowkEi+YQclBpXTtEGgHQS8iBOt9l4YTm+2Xc4HOd9lew/ZnCl1XM1QRaA8EViFVuR4FXKOKfc5S37WAXwJH5e3BtYFPAj+uMdaf2H4P8HXgm3XGtBawOTCu1LwcqVr4dqRK2YVcoNrYFlsN2r7I9na2txs6dGitSwdB0CbUEqaHYL330/AZm6Rq2YSvAw/ZvrFB32oC7RnAdU7pmA8qGSqvDrxU0Xdl4Gbgm3kLENKqbwNgep4Ll5c03fYGFZe+ivQsrBafAvz1ei0AACAASURBVK4vas2VxvXb/Pp64NJSe9l2azhNVBAPgqC9GbXnxos8Y4MQrPcVmtmKfAdp+/Gp/LMFsCpwtKQf1upUR6B9A6laAJI2Im0zvlwh0F6WNLlcYfs3RUfbN9te0/YI2yOAt4pJrbR1CKmszlO5fWHcEtXsvBaOC9gVKPRxY4HDc3bkjsDr1bZBgyDoXYRgve/STFbkBsDI7IaPpAtImYQfAabW6VdVoE3a4rtE0jRS6ZgjbDtvDxYC7U+RJAWrKXk/Ahxpe7HabSVOlPRhkvD6NVINOVhU+F0871uH5Oxf5mzgSqVqBm8Cx+T2W0hmydNJ2ZpH1RlDEAS9iBCs902amdiGkbIMC9/FFYC1bc+XNLdWJ9t/pPrzKYDPVGnbEfhJ7vsr4FeNBmZ7xdLrL9c4bWHcfN6zVEn+yFKCxQqo5i3TTiXLBEEQBD1HMxPbOcAkSXeRJqpdgP+RtAKpHlqXYPv8rorVHXGDIAiC9qSZrMhfAP9BegZ1A/BB2xfb/qftUbX6ddZ5pEr/30uaLemmivbLJP215B5SCK73y84gk3La/QdrxN0rX3u6pFObiDuq1DZN0vws7g6CfkW4dAS9hWZNkP9Fqkv2DmADSRvYvqdBn6VxHoEkwl4e+GKVY6NsX1vRdjtJ32ZJWwDXAJuUT8ji7p+Qng/OAP4iaaztR2vFtT0mjwVJHwdODhPkoL8RLh1Bb6Lhik3SMSS3/HHAd/Pv7zTqtzTOI7n9duAfTX2KdP6b7nB0ruU8sj0w3fYztv9NkgXs1+w1aFAcNQj6KuHSEfQmmkn3/zLwfuBvtj9E0pJ1ylpjaZxHanBm3nY8V9JypescoFR77Wbgc1X6NXIRqRo3x16e5D35W6oQziNBXyZcOoLeRDMT279s/wtA0nK2HweaVjAujfNIDUaTthjfT9LTfb04YPt625sA+wNnVBtOlbZiZVczbubjwH21tiHDeSToy4RLR9CbaGZimyFpCClxZLykG2nSeaOR84jtB4HCeaQp8han81bmpaTtxcpz7gHeo1RkdJHPQg0XkSbiVitCGgT9glF7bszgQQMWaQuXjqBdaSYr8gDbs21/B/gWyU1k/0b9lsZ5pEHctUrx9wem5fcbFCs/pZppy5JryOXtSYC/ABtKWi+7mxxCchapGTe3vZPkRlLXQiwI+irh0hH0JupmRUpaBphiezMA25VuHfVYGucRJN1L2hpcUdIM4Gjb40juIENJ24qTSNUHAD5Bsr56G5gDHJzjrp7PxfY8pUrd44ABwCW2H8n9a8UFOAC4zfY/O/H5g6BPES4dQW9BHYmENU6QrgRG236upQNJE85zzlW0uzDuPsD6zlW0u4PtttvODz30UHddLgiCoE8gaUKusLJUNPOMbS3gEUm3Sxpb/DQxwKoCbUnfkTSzJHreG5JDSDGpSdpK0v253xRJB5fi7i7p4dz3j5IKE+R35zFOkXSXpOE57k3FpCbpHZIelDQ5x/5uKe7IHHeapMslDcztknReFnRPyducQdBvCaF20O40I9D+buNTqlJLoA1wru3v1+n7FnC47aeUarBNkDQu+zleAOxn+zFJx5Pqrh0JfJ9UDeBySSOBs0hboWXmkgyd38yJLX+UdCvwIHA5sLvtJyWdTjJR/gXwUWDD/LNDvv4OS3hPgqBXE0LtoDfQTPLI3cCzwKD8+i/Aw030qyXQbojtJ20/lV+/AMwCihx6Ayvn1++kI0NzU5L7CMCdVBFe56zHN/PbQfnHwGrAXNtFqZrxpGd25DhX5L4PAEOKRJMg6G+EUDvoDTTjPPJ54FrgZ7lpGCmzsWkqBNqQSsxMkXSJpFUa9N2elOH4dG46BrglJ5R8llRuBmAyHZPRAcBKklarEm9ATmaZBYy3/WfgZWCQpGJv9yA6ZAGNRN1F3BBoB32eEGoHvYFmnrGdQMpwfAMgr6Rq+TsuRhWB9gXAe0jFS18EflCn71rAL4GjbC/IzScDe9seTtKbFVKCU4BdJU0kpebPpJRlWWB7vu2tSBq27SVtlq24DgHOlfQgycqr6FtP1F2OGwLtoM8TQu2gN9DMxDY3+yoCkJMq6qdSdpy7mEDb9t/z5LIA+DlVBNa578oka6xv5i1Acjr+lnmVBXA1qfIAtl+wfaDtrYHTctvri0dO5Od1d5FssrB9v+2dbW9P8sZ8Kp9aU9QdBP2NEGoHvYFmJra7JX0DGCzpI8BvgN816lRLoF3xfOoAOgTWCwXaWTx9PenZ1m9K578GvDMLuyG59D+W+6yedXeQ7LEuKV3z8fx7qJKLCpIGAx8GimNr5N/Lkey0Lszdx5L0cZK0I/C67Rcbff4g6IuEUDvoDTSTFXkqcDQwlVRC5hbg4ib61RJoH6pU68ykpJSiLE1ZoP0pUkHT1SQdmduOtD0pP/P7raQFpImuMDveDThLkkkrrhMgTXh0bCeuBVyuVL5mGeAa20W9t1FZ87YMcIHtO3L7LcDewHRStuZRTXz2IOizhFA7aHeaEWgfANxSlJlp2UBCoB0EQdCv6SqBdjMrtn2BH0q6h1S/bJztxZIylhbb53d1zBz3psZnBUEQBH2FZnRsRwEbkJ6tfRp4WlLDrchaziOl46dIKrwcK/seVnImmSRpQXYjWami/WVJP8x9jpU0teRIsmmVuPUcTS6T9NdS7K1yeziPBEEQ9CKaWbFh++3s0GFgMEm0fEyDblWdR2w/KmkdUuJHVf9J21cCVwJI2hy40XbxnG6r4jxJE4CiHM6vbV+Y2/clyQD2qghdz9EEYJTtayv6hPNIEARBL6IZgfZeki4jJU8cREocaei80cB55FzgazQnGziUKnXQJG1I0tPdm6/xRunwCtViN3A0qUU4jwRBEPQimkn3P5LkNLKR7SNs39LZZ2xl55G8mpppe3KT3Q+meoHPQ4GrXcp+kXSCpKeBc4CTGoyp0tEE4My83XhuTvuHcB4JgiDoVTTzjO0Q2zcUWZGSdpL0k2YvUHYeIW1PngZ8u8m+OwBv2Z5W5fBiFa1t/8T2e0g6tG/WiVvN0WQ0qf7b+4FVcwwI55EgCIJeRTMrtiLp4hxJzwL/TRY1N9Gv0nnkPcB6wOQcazjwsKQ1a4RYbPLKcbcEBtqeUKPfVdSo8l3N0QQWbp06T+CX0uGIEs4jQRAEvYiaE5ukjSR9W9JjwPmk7TjZ/pDtHzcKXM15xPZU22vYHmF7BGnS2Mb2/0naXtIVpf7LAJ8kTVKVLPbcLT9zK/gY2RKrSUeThY4oedz7kx1RCOeRIAiCXkW9rMjHSYkZH7c9HUDSyZ2IXdV5xPYtNc5fFyhbhO8CzLD9TJVzP0VyAylzoqQPA2+THEmOyO1NOZoAVyp5UQqYBBybj4fzSBAEQS+ipvNIdhw5hGQy/HvSyuli2+u1ZCDSGOCXtqd0cdyWOJrUI5xHgiAIOk9XOY/U3Iq0fb3tg0kJFXeRysW8S9IFkvZoYoCdEmjbHlVMapJGSJpTEktfWOp3cM5cfETSOaX2d0u6PR+7S9LwHPf8yklNqSbbREk3ldpGSnpY0jRJlytVMUDSbpJeL42lqcSXIAiCoGdoKNC2/U+SWPpKSauSnnudCtzWoOsSC7QzT+e6aQtRKhw6BtjW9kt5Atrd9u3A90nPzi6XNBI4i7QVWo0vk3R1K+e4ywCXA7vbflLS6aStzF/k8++1vU+DzxsELeWGiTMZM+4JXpg9h7WHDGbUnhuHGXEQVKGprMgC26/a/pntkU2c21UC7TLrA0/aLoRif6CjavamwO359Z0kYfVi5JXcx1i0QsFqpLpzT+b340txg6DHuWHiTEZfN5WZs+dgYObsOYy+bio3TJzZ00MLgrajUxPbkrKEAu318nbh3ZJ2zm3TgU3yVuVAUvZikYo/mY7J6ABgpbzCq+SHpEl1QantZWCQpGJv9yAWTfH/gKTJkm6V9L5GnzcIupox455gztvzF2mb8/Z8xox7oodGFATtS8sntiUUaL8IrJurYX8V+LWklW2/BhxHqpx9L6meW5HxeAqwq6SJwK7AzNKxYiz7ALMq9W/ZveQQ4FxJDwL/KPV9GHi37S2BH5NcWKp9znAeCVrGC7PndKo9CPozLZ3YllSgbXuu7Vfy6wkk26uN8vvf2d7B9geAJ8h6Ndsv2D4wT4an5bbXK4a0E7BvvvZVwEhJv8rn3m97Z9vbkwqVFnHfsP1mfn0LaWW3WEWCcB4JWsnaQwZ3qj0I+jMtm9iWRqAtaahSlWskrU9y1n8mv18j/14FOJ78rEzS6jkJBJI91iWlsTyerz/a9vB87UOAO2x/piLuciQ7raJSwJr5sxT+kssAr3T1/QqCeozac2MGDxqwSNvgQQMYtefGPTSiIGhfmipbs4QsjUB7F+B0SfOA+cCxtl/Nx36kZKkFcHop4WM34CxJJq24ToA04VHd77GSUXmrchngAtt35PaDgOPyWOYAh5SNl4OgOyiyHyMrMggaU1Og3d20UKC9D7C+7fO6Mm49QqAdBEHQebpKoN3KFVunsD2qRXFvanxWEARB0Fdo2cSWRdhXAGuSUusvsv0jSWeQNGYLSIU+j8xFP8t9DwPKE90WwDakJJJ7S+3DgV/Z/kr2fhxDyoYEON92WatWxH6WlPU4H5hX/N9BFp9fDYwgZVt+KmdhImk3kkxgEPCy7V07fUNaSH8S7vanzxp0P/H96hu0bCtSyS1/rbLzCEl3NsO52rWkk4BNbR9bJ87mwI22169ybAJwsu178sS2ne0TG4zr2XzeyxXt5wCv2j5b0qnAKra/LmkI8CdgL9vPSVrD9qx61+jOrchCuFvWOA0eNICzDty8z/1B9qfPGnQ/8f3qeVruFbm01HIeKSa1zAo0dh9ZrEQNLCxTswaLruCWhv1Itlrk30U9t08D19l+DqDRpNbd9Cfhbn/6rEH3E9+vvkO3O4/k92dKeh44jMZi7YOpMrGRJryrKzIUP5FNkK/NW6HVMHCbpAmSvlBqf1dRZy3/XiO3bwSsko2VJ0g6vMZn7BGBdn8S7vanzxp0P/H96jt0q/NIsVqzfZrtdUjmyjW3DiXtALxle1qVw5XVtX8HjLC9BclD8vIqfQB2sr0N8FHgBEm7NPgIA4FtSf6SewLfkrRR5Uk9JdDuT8Ld/vRZg+4nvl99h+52Hqnk19Q3G66cvIq4WwIDy9ZYtl+xPTe//TlpMlqMIlElbyleD2yfD/1dHVW01yIltkASkf/e9j/zc7l7gC1pE/qTcLc/fdag+4nvV9+hW51HcvuGpdP2JVXqpuw8kt8vQyqRc1WV8Is9dysmpVLcx0rHimuskBNZkLQCsAdQrAbH0lF1+wjgxvz6RmBnSQMlLQ/sUI7d0+y/9TDOOnBzhg0ZjIBhQwb32Yfd/emzBt1PfL/6Dq3MivwgKbFjKh1O+t8AjgY2zm1/I7mKzJR0EPAR21/M/XcDzra9Y5XYzwB723681HYWaUKbB7wKHGf78ew8cp/tjbM91/W5y0Dg17bPzP1XA64hOaA8B3yycDuRNAo4Ko/5Yts/rPfZQ6AdBEHQeboqKzKcR1pATGxBEASdJ5xHmo8bziNBEAT9iFY+Y1tH0p2SHpP0iKQv5/Yzckr+JEm3SVq7St8RkubkcyZJurB0bFtJUyVNl3ReyXl/VUnjJT2Vf6/SXXGD9uGGiTPZ6ew7WO/Um9np7DuiwnQQ9ENamRU5D/hP2+8FdiSl1m8KjLG9he2tgJuorWN72vZW+afsTHIB8AVSKZsNgb1y+6nA7bY3BG7P77szbtDDFM4RM2fPwcDM2XMYfd3UmNyCoJ/RG5xHFpIzH1fORUFN8qIsHEJqOYf0WNygewnniCAIoL2dR9aTNFHS3ZJ2zm3DSLqyghm5DWo7h3RL3J5yHgk6COeIIAigfZ1HXgTWtb018FXg15JWpnrB0M6kdbYqbo85jwQdhHNEEATQps4jtufafiW/nkAqV7MRaSU1vHTqcKAoeVPLOaTlcYP2IJwjgiCANnUekTRU0oD8en1SMsczeSvwH5J2zPEPp8MhpKpzSKviBu1HOEcEQQCt1bHtBHwWmCppUm77BnC0pEWcR/KxdYHiYcguwOmS5pEKgh5buIAAxwGXAYOBW/MPwNnANZKOJjuHtDhu0Ibsv/WwmMiCoJ/TH5xHWhK3HuE8EgRB0Hm6ynmkbQTatkcVk4+k1XLfNyWdXxH3TEnPS3qzov2rkh7NsW+X9O7KuPm8vSQ9kYXYp5ba15P05yzEvlrSshXxD5JkSQ1v+uy33g6RcBAEQQ/RrgLtfwHfAk6pcux3dJSaKTMR2C7XY7sWOKfyhPx87SekWmybAofmMQF8Dzg3C7FfI5k1F/1WAk4iyxUaMXP2nBAJB0EQ9BBtKdDOtc/+SJrgKo89UOjKKtrvtP1WfvsAi2Y5FmwPTLf9jO1/k0ri7JcTRkaSJkRYXIh9BmmiXGw81VhQsb0bIuEgCILuo50F2kvD0XQkf5QZBjxfel8IsVcDZtueV9GOpK2BdRqZKZcF2vPfen2x4yESDoIg6B7aVaC9NNf7DLAdMKba4SptrtWuVOz0XOA/G123LNAesPw7FzseIuEgCILuoS0F2ktxvQ8DpwH72p5b5ZQZwDql94UQ+2VgiKSBFe0rAZsBd0l6lvSscGyjBJJltOg8GSLhIAiC7qMtBdpLeL2tgZ+RJrVZFceKStt/ATbMGZDLAocAY7Px8Z3AQfm8I4Abbb9ue3XbI2yPID2729d23Vz+YUMGh0g4CIKgh2hXgTZ5hbQysKyk/YE9bD8q6Rzg08DykmYAF9v+DmnrcUXgN2lO5Tnb+0panbzVaHuepBOBccAA4BLbj+RLfh24StJ/kzIsf7GkH3zI8oO479SRS9o9CIIgWAr6g0B7H2B92+d1Zdx6hEA7CIKg83SVQLuVK7ZOYXtUi+LWzWYMgiAI+hYtm9gkrUMq2LkmadvxIts/yiuzjwP/JrnrH2V7dpX+6wIXk5I9DOxt+9nS8R/nvivm918FjiEJw18CPmf7bxUx3wHcAyxH+uzX2v6vfOwyYFegyNU/0vak/KzwR8DewFu5/eGluztLxw0TZzJm3BO8MHsOaw8ZzKg9N45neJ1kSe5htT5A/FsEQZvRyhVb4TzycHbumCBpPDAeGJ2fd30PGE16vlXJFcCZtsdnycCC4kDOShxScX7hPPKWpONIguqDK86ZC4y0/WbO2PyjpFttP5CPj7J9bUWfj5KqAGwI7ABckH/3CDdMnMno66YurBRdOJsA8R/UJlmSe1itz6hrJ4Ph7QVuOk4QBK2nJ5xHbisJoas6hGSbq4G2x+f+bxauItkWawzwtYrrNXQecaLwmByUfxo9ZNwPuCL3fYAkC1irQZ+WMWbcEwv/41oQziadY0nuYbU+b8/3wkmt2ThBELSeHnEeKfE5qjuEbATMlnSdpImSxhR11EiC7rHVbLVK1HIeQdKAnKU5CxhvuzymM7OJ8rmSlstttdxKKuMudB556aWX6gxt6ajlYBLOJs2zJPewM/c3/i2CoGfpEeeR3H4aabvyyirdBgI7k0yQ3w+sDxyZKwF8EvhxnevVcx7B9vxswDwc2F7SZvnQaGCTfL1V6dgereVWUhl3ofPI0KFDaw1vqanlYBLOJs2zJPewM/c3/i2CoGfpEecRSUcA+wCHubreYAYwMZsVzwNuALYhrfo2AKZnndvykqaX4jZyHllITli5C9grv38xbzfOBS6lo4JALbeSHmHUnhszeNCARdrC2aRzLMk9rNZn0AAxaJlwmQmCdqMnnEf2Iq2G9i09E0PSMEm357d/AVaRVCx9RgKP2r7Z9polJ5C3bG+Q+zd0HpE0VNKQ/How8GE6nE/WKo17f2Ba7j4WOFyJHYHXG2yDtpT9tx7GWQduHs4mS8GS3MNqfcYctCVjPrll/FsEQZvRMoG2pA8C9wJT6cho/AZwHind/pXc9oDtY3Om45m298z9PwL8gLQVOAH4Qi41U77Gm6V0/z8AmwPFpFN2HrnP9saStiCVpBlAmtSvsX167n8HMDRfbxJwbM6eFHA+aWX3FkliUFd9HQLtIAiCztNVAu12ch45kTQZje3iuOE8EgRB0AvoqomtlVuR60i6U9Jjkh6R9OXcPkbS4zn78Ppia9D2+ZWTmqSVJc2UdH5+v5KkSaWflyX9MB/bRdLDkuZJKsyMsX1TeVKT9GVJ0/KYvlJq/2RuW6AK935JoyVNl/SEpD1bcb+CIAiCrqGVySOFQPu9pHIvJ2R92nhgM9tbAE+SshFrcQZwd/HG9j9sb1X8kEyUi6SU54AjSaVwqpIzID9PSgzZEthHHdUGpgEHkpxJyn02JVUBeB9pO/KnJelBEARB0Ga0pUAbQNK2wLuA22oc3xBYg/QcD9vPZgPlBdXOz7yX9EzvrTyGu4EDcv/HbFdT1u4HXGV7ru2/AtPpyJgMgiAI2oy2FGgrVa7+AVDPGPlQ4OoacoFaTAN2kbSapOVJ/o/rNOjTlEA7CIIgaA9a7u6/hALt44FbbD8vVdNHA2l78LOdGYvtx7I/5XjgTWByHkPdj1At1GInSV8AvgCw7rrrdmZYQRAEQRfS0omtCYH27jVWXB8AdpZ0PKl46LI5tf/U3H9LkpfkhM6OyfYvyEVEJf0PaQVWj6YE2rYvAi6ClBXZ2XEFQRAEXUNbCrRtH2Z73SzCPoVkQnxqKfyhwP92YiyPl16vkX+vS0oWaRRnLHCIpOUkrUdy+X+w2WsHQRAE3UsrV2w7kbYKp2bTYVhUoD0+bzM+YPtYYC0abwsWfIr0fGwhkt4PXA+sAnxc0ndtvy8LtMvbib+VtBrwNnCC7ddy/wNIHpRDgZslTbK9p+1HJF0DPJrHd4LtRW3egyAIgrYhBNotIATaQRAEnaerBNotTx5pFtvntyjuTa2IGwRBELQnPeE8UtPho6L/97JDyDRJB5fa7y05j7wg6YaKfu+XNL/sPlI6tnGFc8kbhftIrXFJWlbSpZKmSposabcuuD1BEARBi2jliq1wHnlY0krABEnj6XD4+FmtjpI+RipTsxXpedzdkm61/YbtnUvn/Ra4sfR+APA9YFy1uFmAvVXp3Jmk53LUGdfnc9/Nc+LJrZLeb7ueEDwIgiDoIXrCeaSWw0eZTYG7bc+z/U+S3myv8gl5shxJqtVW8CWSvGCRsjU12B142vbf8hhrjWtToMjWnAXMJhUyDYIgCNqQnnYeqcVk4KOSls9ZjR9icYeQA4DbC9G3pGG57cImr3EIzUkGJgP7SRqY0/23rTIWJH1B0kOSHnrppZeaHEIQBEHQ1fSY80g9bN+W0/f/BLwE3M/iUoBDgYtL738IfN32/DpuJcWYlgX2pb4Bc8ElJI/Jh0imy3+qMpYQaAdBELQJPeI80gy2zwTOzHF+DTxVirsayYj4gFKX7YCr8qS2OrC3pHm2F0kuyXwUeNj235sYxzzg5NK1/1QeSxAEQdBedLvzSJ3zFzqPSBqQJy+Uql5vwaIu/58EbrL9r6LB9nq2R2S3kmuB44tJrew8kmnauSRvh66QX38EmGf70Wb6BkEQBN1PTziPLEcVhw8WdR4ZBNybV19vAJ8plbqB9Hzs7GYGUek8kl39PwJ8seK8qs4jpNI44yQtIGVRdsp4OQiCIOhewnmkBYTzSBAEQecJ55Hm44bzSBAEQT+ibZ1H8rkrS5op6fxS27KSLpL0pKTHJX0it+8i6WFJ86q5jpT67yXpCUnTJZ1aaj8xtzlvXxbtknRePjZF0jZLc1+CIGgdN0ycyU5n38F6p97MTmffwQ0TZ/b0kIIeoC2dR0qcAdxd0XYaMMv2RkqVtlfN7c8BR5LK3FQlu438hPSMbQbwF0ljczLIfcBNwF0V3T5KKlWzIbADcEH+HQRBG3HDxJmMvm4qc95OxTdmzp7D6OumArD/1lH0vj/Rrs4jSNoWeBeLZkMCfA44K8ddYPvl/PpZ21OAelZX2wPTbT9j+9/AVcB+uf9E289W6bMfqR6cbT8ADJG0VqPxB0HQvYwZ98TCSa1gztvzGTOu4X9ugj5Gtzxj66zzSF6J/YCUgbh7qX1IfnlGNiN+GjixGT1aZhjwfOn9DBqvvqr1GQa8WDHmLwBfyG/nSprW5Jh6ktWBl3t6EE0Q4+xa+uQ4l11zg22rtb8IaPT0CV01qAr65L3sQTbuiiBt6TwCHA/cYvv5CheRgcBw4D7bX5X0VeD7NJ+CX82SpFFaaFN9ys4jkh7qisyeVhPj7FpinF1Lbxhnbxgj9K5xdkWcdnUe+QCws6TjgRWBZSW9SbLAeosOR/7fAEd3Iu4MFvV5HA680II+QRAEQQ/Rls4jtg+zvW52ETmF9IzrVCfR3e+A3XK33YGGLiAl55G/ABtKWi/7RR4CNNLNjQUOz9mROwKv236xQZ8gCIKgh2ilu3/hPDJSHYU995Z0gKQZpFXZzZKK2mll55F6fB34jqQpOf5/wsICozNIdls/k/RIbl/oPJLdS04k1Wt7DLjGdnHeSbn/cGCKpMJg+RbgGWA68HPSNmkjLmrinHYgxtm1xDi7lt4wzt4wRuhn4wznkSAIgqBP0TYTWxAEQRB0Bd1SaDQIgiAIuouY2DqBpEskzSpr1CStKmm8pKfy71Vq9D0in/OUpCN6YJxjsgXZFEnXlzSBlX2flTQ1PxNtqZNzjXF+J9uoLXwuW6NvVWu0bhzn1aUxPquOChaVfbvlfqq2hV1bfT/rjLOtvp91xtlW388642y37+c7JD0oaXIe53dz+3qS/py/d1crJfVV6z8638snJO3Z8IK246fJH2AXYBtgWqntHODU/PpU4HtV+q1KSkBZFVglv16lm8e5BzAwv/5etXHmY88Cq/fg/fwOcEqDfgNI4vz1gWWBycCm3TnOiuM/AL7dk/eTlHy1TX69EvAksGm7fT/rjLOtvp91xtlWN1yjmQAABnlJREFU389a42zD76eAFfPrQSSzjh2Ba4BDcvuFwHFV+m6a7+FywHr53g6od71YsXUC2/cAr1Y07wdcnl9fDuxfpeuewHjbr9p+DRgP7NWd47R9mztq2j1Ayv7sUWrcz2aoaY3WCuqNU5KAT9Fk4dpW4RoWdrTZ97PWONvt+1nnfjZDt30/G42zjb6ftv1mfjso/xgYSSoMDbW/n/sBV9mea/uvpAz17etdLya2peddzrq2/HuNKufUsuXqKT4H3FrjmIHbJE1QsgnrCU7MW1KX1Ng6a6f7uTPwd9tP1Tje7fdTi1rYte33U7Wt9trq+1llnG35/axxP9vm+ylpQN4SnUX6n6engdml/6GpdZ86fT9jYuselsTKqyVIOo2kF7yyxik72d6GVNXgBEm7dNvgEhcA7wG2Itn8/aDKOW1zP4FDqf9/w916P7VkFnbdfj9rjbPdvp9VxtmW3886/+5t8/20Pd/2VqTV+PbAe6udVqWt0/czJral5+/Kbv/596wq57SFLVdOCtgHOMx587oS2y/k37NI1mV1l/xdje2/5z+ABSRBfLXrt8v9HEgqwXR1rXO6836quoVd230/a4yz7b6f1cbZjt/POvezrb6fpWvOJpUH25FULaWwdqx1nzp9P2NiW3rGAkUW2RHAjVXOGQfsIWmVvHWxR27rNiTtRXJt2df2WzXOWUGpdh6SViCNs1urFGjRkkAH1Lj+klijtYIPA4/bnlHtYHfez/wspZqFXVt9P2uNs92+n3XG2Vbfzzr/7tBe38+hypmukgbnsT0G3AkUhaFrfT/HAodIWk7SeqTamA/WvWCrs2H60g9pSf8i8Dbp/yKOBlYDbgeeyr9XzeduB1xc6vs50kPP6cBRPTDO6aR96kn558J87tqkSgqQsrgm559HgNN6YJy/BKYCU/IXeq3Kceb3e5MywJ7uiXHm9suAYyvO7ZH7CXyQtD0zpfRvvHe7fT/rjLOtvp91xtlW389a42zD7+cWwMQ8zmnkLM08hgfzv/9vgOVy+77A6aX+p+V7+QTw0UbXC+eRIAiCoE8RW5FBEARBnyImtiAIgqBPERNbEARB0KeIiS0IgiDoU8TEFgRBEPQpYmILgm5E0vzspD5N0m8kLS9piKRmKrOX49yVnc4nS7pP0sZLOa69svv643l8V0tad2liBkFPERNbEHQvc2xvZXsz4N/AscAQoFMTW+Yw21uSzGPHNNup5PRQvN8M+DFwhO1NnGyPrgRGLMGYgqDHiYktCHqOe4ENgLOB9+SV0hhJa0m6p7Sy27lBnHtyHCRtK+nubGo7rmSndZek/5F0N/Dliv5fB/7H9mNFg+2xTlUNkPR5SX/Jq8PfSlo+t18m6QKlemDPSNo1GwM/JumyIpakPSTdL+nhvEpdcanuWhA0ICa2IOgB8qrpoyQXi1OBp/NKbhTwaeD/t3c/LzbFYRzH358McnMzio2UHYsZmchismBhJ2UxG03JPyARKyMbNihiR81iJDupWcmORJnUdOcmSzaK7gpNiMfi+z3jmO6vaYap0+e1ufecznnOuYt7n57vuT3P41w57SF1k+jmKNDIPQNvA2MRsQ+YBK6UjhuMiIMRsbhx7xDwukv8hxGxP1eHb0gdYgqbSaNHzgDTwI0cb7ekEUlbgAngcKRmuzPA2R6fx2xZBnofYmYraIP+TDN+Rurzt23RMa+AyZyoHkVEp8R2X9I8aVjkKWAXMAw8SS0EWUNqBVbo2Ay3IKlowVUD7kTEdWBY0mXSkulG/u4jOR0RIalBGo/SyHGapKXM7aRBkc/zPa0DXvS6D7PlcGIz+7/mcyW2IP/gL4iIp3l8yBHgnqRrETHVJtZ4RMyU4gwCzYgY7XDtrx32N0kTwmcjogWMSDpHSmKQeg4ei4hZSSeBQ6Vzv+XXX6X3xfYA8JM0xPR4h2ubrTgvRZqtvs9AvdiQtAP4GBF3SRXd3j7jvAW2ShrNcdZKGurjvKvABUnl+Vi10vs68CFXkON93kvhJXBAUvEMsCZp5xJjmC2JKzazVRYRrfyX/TnS5Og54LykH8AX4ESfcb5LGgNuSdpE+n7fJFVk3c5rSDoNTOUxJi3gPXApH3KRNJX5HemZYL1toPaxP+Uq74Gk9Xn3BKnzvdk/4e7+ZmZWKV6KNDOzSnFiMzOzSnFiMzOzSnFiMzOzSnFiMzOzSnFiMzOzSnFiMzOzSvkNIhBgM8N11UEAAAAASUVORK5CYII=\n",
      "text/plain": [
       "<Figure size 432x288 with 1 Axes>"
      ]
     },
     "metadata": {
      "needs_background": "light"
     },
     "output_type": "display_data"
    }
   ],
   "source": [
    "plt.scatter(nba2k16.iloc[:,2], nba2k17.iloc[:,6])\n",
    "plt.ylabel('Average Salary')\n",
    "plt.xlabel('Pts Per Game')\n",
>>>>>>> 7638e37458405f05872cdd818afde27ef232e592
    "plt.ylim(12,None)\n",
    "plt.xlim(10, 30)\n",
    "plt.show()"
   ]
  },
  {
   "cell_type": "code",
<<<<<<< HEAD
   "execution_count": null,
   "metadata": {},
   "outputs": [],
=======
   "execution_count": 35,
   "metadata": {},
   "outputs": [
    {
     "data": {
      "image/png": "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\n",
      "text/plain": [
       "<Figure size 432x288 with 1 Axes>"
      ]
     },
     "metadata": {
      "needs_background": "light"
     },
     "output_type": "display_data"
    }
   ],
>>>>>>> 7638e37458405f05872cdd818afde27ef232e592
   "source": [
    "plt.scatter(nba2k17.iloc[:,2], nba2k17.iloc[:,6])\n",
    "plt.ylabel('Average Salary')\n",
    "plt.xlabel('Pts Per Game')\n",
    "plt.ylim([12,None])\n",
    "plt.xlim(10, 30)\n",
    "plt.show()"
   ]
  },
  {
   "cell_type": "code",
<<<<<<< HEAD
   "execution_count": null,
   "metadata": {},
   "outputs": [],
=======
   "execution_count": 39,
   "metadata": {},
   "outputs": [
    {
     "data": {
      "image/png": "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\n",
      "text/plain": [
       "<Figure size 432x288 with 1 Axes>"
      ]
     },
     "metadata": {
      "needs_background": "light"
     },
     "output_type": "display_data"
    }
   ],
>>>>>>> 7638e37458405f05872cdd818afde27ef232e592
   "source": [
    "plt.scatter(nba2k18.iloc[:,2], nba2k18.iloc[:,6])\n",
    "plt.ylabel('Average Salary')\n",
    "plt.xlabel('Pts Per Game')\n",
    "plt.ylim(12,None)\n",
    "plt.xlim(10, 30)\n",
    "plt.show()"
   ]
  },
  {
   "cell_type": "code",
   "execution_count": null,
   "metadata": {},
   "outputs": [],
   "source": []
  }
 ],
 "metadata": {
  "kernelspec": {
   "display_name": "Python 3",
   "language": "python",
   "name": "python3"
  },
  "language_info": {
   "codemirror_mode": {
    "name": "ipython",
    "version": 3
   },
   "file_extension": ".py",
   "mimetype": "text/x-python",
   "name": "python",
   "nbconvert_exporter": "python",
   "pygments_lexer": "ipython3",
   "version": "3.7.6"
  }
 },
 "nbformat": 4,
 "nbformat_minor": 4
}
