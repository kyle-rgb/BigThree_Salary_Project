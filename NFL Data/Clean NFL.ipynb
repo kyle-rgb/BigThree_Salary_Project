{
 "cells": [
  {
   "cell_type": "code",
   "execution_count": 1,
   "metadata": {},
   "outputs": [],
   "source": [
    "import pandas as pd\n",
    "import numpy as np"
   ]
  },
  {
   "cell_type": "code",
   "execution_count": 2,
   "metadata": {},
   "outputs": [],
   "source": [
    "nfl_file = \"NFL Stats.xlsx\""
   ]
  },
  {
   "cell_type": "code",
   "execution_count": 3,
   "metadata": {},
   "outputs": [],
   "source": [
    "nfl_sal = pd.read_excel(nfl_file, sheet_name=0)\n",
    "nfl_def = pd.read_excel(nfl_file, sheet_name=1)\n",
    "nfl_pas = pd.read_excel(nfl_file, sheet_name=2)\n",
    "nfl_rec = pd.read_excel(nfl_file, sheet_name=3)\n",
    "nfl_rus = pd.read_excel(nfl_file, sheet_name=4)"
   ]
  },
  {
   "cell_type": "code",
   "execution_count": 4,
   "metadata": {},
   "outputs": [],
   "source": [
    "def_list = [\"LB\", \"DE\", \"DT\", \"CB\"]\n",
    "pass_list = [\"QB\"]\n",
    "rec_list = [\"WR\"]\n",
    "rush_list = [\"RB\"]"
   ]
  },
  {
   "cell_type": "code",
   "execution_count": 5,
   "metadata": {},
   "outputs": [],
   "source": [
    "top_def_df = nfl_sal.loc[nfl_sal['Position'].isin(def_list)]\n",
    "top_pass_df = nfl_sal.loc[nfl_sal['Position'].isin(pass_list)]\n",
    "top_rec_df = nfl_sal.loc[nfl_sal['Position'].isin(rec_list)]\n",
    "top_rush_df = nfl_sal.loc[nfl_sal['Position'].isin(rush_list)]"
   ]
  },
  {
   "cell_type": "code",
   "execution_count": 6,
   "metadata": {},
   "outputs": [],
   "source": [
    "top_def_list = []\n",
    "top_pass_list = []\n",
    "top_rec_list = []\n",
    "top_rush_list = []\n",
    "top_def_list = pd.Series.to_list(top_def_df['PLAYER'])\n",
    "top_pass_list = pd.Series.to_list(top_pass_df['PLAYER'])\n",
    "top_rec_list = pd.Series.to_list(top_rec_df['PLAYER'])\n",
    "top_rush_list = pd.Series.to_list(top_rush_df['PLAYER'])"
   ]
  },
  {
   "cell_type": "code",
   "execution_count": 7,
   "metadata": {},
   "outputs": [],
   "source": [
    "nfl_sal_df = pd.DataFrame(nfl_sal, columns=['PLAYER', 'Year Signed', 'YRS', 'YEAR AVG', 'VALUE'])"
   ]
  },
  {
   "cell_type": "code",
   "execution_count": 8,
   "metadata": {},
   "outputs": [],
   "source": [
    "nfl_def_df = pd.DataFrame(nfl_def, columns=['Year', 'Player', 'Tm','Pos', 'G', 'Int', 'TD', 'PD', 'FF', 'Fmb', 'FR', 'TD.1', 'Sk', 'Comb', 'Solo'])\n",
    "clean_def_df = nfl_def_df.fillna(0)\n",
    "clean_def_df = clean_def_df.replace('\\*', '', regex=True).astype(str)\n",
    "clean_def_df = clean_def_df.replace('\\+', '', regex=True).astype(str)\n",
    "clean_def_df = clean_def_df.replace('\\*+', '', regex=True).astype(str)"
   ]
  },
  {
   "cell_type": "code",
   "execution_count": 9,
   "metadata": {},
   "outputs": [],
   "source": [
    "nfl_pas_df = pd.DataFrame(nfl_pas, columns=['Year', 'Player', 'Tm', 'Pos', 'G', 'Cmp', 'Att', 'Cmp%', 'TD', 'Int', 'Rate'])\n",
    "clean_pas_df = nfl_pas_df.fillna(0)\n",
    "clean_pas_df = clean_pas_df.replace('\\*', '', regex=True).astype(str)\n",
    "clean_pas_df = clean_pas_df.replace('\\+', '', regex=True).astype(str)\n",
    "clean_pas_df = clean_pas_df.replace('\\*+', '', regex=True).astype(str)"
   ]
  },
  {
   "cell_type": "code",
   "execution_count": 10,
   "metadata": {},
   "outputs": [],
   "source": [
    "nfl_rec_df = pd.DataFrame(nfl_rec, columns=['Year', 'Player', 'Tm', 'Pos', 'G', 'Tgt', 'Rec', 'Ctch%', 'Yds', 'TD', 'Fmb'])\n",
    "clean_rec_df = nfl_rec_df.fillna(0)\n",
    "clean_rec_df = clean_rec_df.replace('\\*', '', regex=True).astype(str)\n",
    "clean_rec_df = clean_rec_df.replace('\\+', '', regex=True).astype(str)\n",
    "clean_rec_df = clean_rec_df.replace('\\*+', '', regex=True).astype(str)"
   ]
  },
  {
   "cell_type": "code",
   "execution_count": 11,
   "metadata": {},
   "outputs": [],
   "source": [
    "nfl_rus_df = pd.DataFrame(nfl_rus, columns=['Year', 'Player', 'Tm', 'Pos', 'G', 'Att', 'Yds', 'TD', 'Y/A', 'Y/G', 'Fmb'])\n",
    "clean_rus_df = nfl_rus_df.fillna(0)\n",
    "clean_rus_df = clean_rus_df.replace('\\*', '', regex=True).astype(str)\n",
    "clean_rus_df = clean_rus_df.replace('\\+', '', regex=True).astype(str)\n",
    "clean_rus_df = clean_rus_df.replace('\\*+', '', regex=True).astype(str)"
   ]
  },
  {
   "cell_type": "code",
   "execution_count": 12,
   "metadata": {},
   "outputs": [],
   "source": [
    "top_nfl_def_df = clean_def_df.loc[clean_def_df['Player'].isin(top_def_list)]\n",
    "sort_top_def = top_nfl_def_df.sort_values([\"Player\", \"Year\"], ascending=True)"
   ]
  },
  {
   "cell_type": "code",
   "execution_count": 13,
   "metadata": {},
   "outputs": [],
   "source": [
    "top_nfl_rus_df = clean_rus_df.loc[clean_rus_df['Player'].isin(top_rush_list)]\n",
    "sort_top_rus = top_nfl_rus_df.sort_values([\"Player\", \"Year\"], ascending=True)"
   ]
  },
  {
   "cell_type": "code",
   "execution_count": 14,
   "metadata": {},
   "outputs": [],
   "source": [
    "top_nfl_pas_df = clean_pas_df.loc[clean_pas_df['Player'].isin(top_pass_list)]\n",
    "sort_top_pas = top_nfl_pas_df.sort_values([\"Player\", \"Year\"], ascending=True)"
   ]
  },
  {
   "cell_type": "code",
   "execution_count": 15,
   "metadata": {},
   "outputs": [],
   "source": [
    "top_nfl_rec_df = clean_rec_df.loc[clean_rec_df['Player'].isin(top_rec_list)]\n",
    "sort_top_rec = top_nfl_rec_df.sort_values([\"Player\", \"Year\"], ascending=True)"
   ]
  },
  {
   "cell_type": "code",
   "execution_count": 18,
   "metadata": {},
   "outputs": [],
   "source": [
    "writer = pd.ExcelWriter('TopFullStats.xlsx', engine='xlsxwriter')\n",
    "\n",
    "sort_top_def.to_excel(writer, sheet_name=\"Defense\", index=False, header=True)\n",
    "sort_top_pas.to_excel(writer, sheet_name=\"Passing\", index=False, header=True)\n",
    "sort_top_rec.to_excel(writer, sheet_name=\"Receiving\", index=False, header=True)\n",
    "sort_top_rus.to_excel(writer, sheet_name=\"Rushing\", index=False, header=True)\n",
    "nfl_sal_df.to_excel(writer, sheet_name=\"Salary\", index=False, header=True)\n",
    "\n",
    "writer.save()"
   ]
  },
  {
   "cell_type": "code",
   "execution_count": null,
   "metadata": {},
   "outputs": [],
   "source": []
  }
 ],
 "metadata": {
  "kernelspec": {
   "display_name": "Python 3",
   "language": "python",
   "name": "python3"
  },
  "language_info": {
   "codemirror_mode": {
    "name": "ipython",
    "version": 3
   },
   "file_extension": ".py",
   "mimetype": "text/x-python",
   "name": "python",
   "nbconvert_exporter": "python",
   "pygments_lexer": "ipython3",
   "version": "3.7.6"
  }
 },
 "nbformat": 4,
 "nbformat_minor": 4
}
