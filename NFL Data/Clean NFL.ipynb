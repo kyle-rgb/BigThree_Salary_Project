{
 "cells": [
  {
   "cell_type": "code",
   "execution_count": 25,
   "metadata": {},
   "outputs": [],
   "source": [
    "import pandas as pd\n",
    "import numpy as np"
   ]
  },
  {
   "cell_type": "code",
   "execution_count": 26,
   "metadata": {},
   "outputs": [],
   "source": [
    "nfl_file = \"NFL Stats.xlsx\""
   ]
  },
  {
   "cell_type": "code",
   "execution_count": 27,
   "metadata": {},
   "outputs": [],
   "source": [
    "nfl_sal = pd.read_excel(nfl_file, sheet_name=0)\n",
    "nfl_def = pd.read_excel(nfl_file, sheet_name=1)\n",
    "nfl_pas = pd.read_excel(nfl_file, sheet_name=2)\n",
    "nfl_rec = pd.read_excel(nfl_file, sheet_name=3)\n",
    "nfl_rus = pd.read_excel(nfl_file, sheet_name=4)"
   ]
  },
  {
   "cell_type": "code",
   "execution_count": 28,
   "metadata": {},
   "outputs": [],
   "source": [
    "def_list = [\"LB\", \"DE\", \"DT\", \"CB\"]\n",
    "pass_list = [\"QB\"]\n",
    "rec_list = [\"WR\"]\n",
    "rush_list = [\"RB\"]"
   ]
  },
  {
   "cell_type": "code",
   "execution_count": 29,
   "metadata": {},
   "outputs": [],
   "source": [
    "top_def_df = nfl_sal.loc[nfl_sal['Position'].isin(def_list)]\n",
    "top_pass_df = nfl_sal.loc[nfl_sal['Position'].isin(pass_list)]\n",
    "top_rec_df = nfl_sal.loc[nfl_sal['Position'].isin(rec_list)]\n",
    "top_rush_df = nfl_sal.loc[nfl_sal['Position'].isin(rush_list)]"
   ]
  },
  {
   "cell_type": "code",
   "execution_count": 30,
   "metadata": {},
   "outputs": [],
   "source": [
    "top_def_list = []\n",
    "top_pass_list = []\n",
    "top_rec_list = []\n",
    "top_rush_list = []\n",
    "top_def_list = pd.Series.to_list(top_def_df['PLAYER'])\n",
    "top_pass_list = pd.Series.to_list(top_pass_df['PLAYER'])\n",
    "top_rec_list = pd.Series.to_list(top_rec_df['PLAYER'])\n",
    "top_rush_list = pd.Series.to_list(top_rush_df['PLAYER'])"
   ]
  },
  {
   "cell_type": "code",
   "execution_count": 31,
   "metadata": {},
   "outputs": [],
   "source": [
    "nfl_sal_df = pd.DataFrame(nfl_sal, columns=['PLAYER', 'Year Signed', 'YRS', 'YEAR AVG', 'VALUE'])"
   ]
  },
  {
   "cell_type": "code",
   "execution_count": 32,
   "metadata": {},
   "outputs": [],
   "source": [
    "nfl_def_df = pd.DataFrame(nfl_def, columns=['Year', 'Player', 'Tm', 'G', 'Int', 'TD', 'PD', 'FF', 'Fmb', 'FR', 'TD.1', 'Sk', 'Comb', 'Solo'])\n",
    "clean_def_df = nfl_def_df.fillna(0)\n",
    "clean_def_df = clean_def_df.replace('\\*', '', regex=True).astype(str)\n",
    "clean_def_df = clean_def_df.replace('\\+', '', regex=True).astype(str)\n",
    "clean_def_df = clean_def_df.replace('\\*+', '', regex=True).astype(str)"
   ]
  },
  {
   "cell_type": "code",
   "execution_count": 33,
   "metadata": {},
   "outputs": [],
   "source": [
    "nfl_pas_df = pd.DataFrame(nfl_pas, columns=['Year', 'Player', 'Tm', 'G', 'Cmp', 'Att', 'Cmp%', 'TD', 'Int', 'Rate'])\n",
    "clean_pas_df = nfl_pas_df.fillna(0)\n",
    "clean_pas_df = clean_pas_df.replace('\\*', '', regex=True).astype(str)\n",
    "clean_pas_df = clean_pas_df.replace('\\+', '', regex=True).astype(str)\n",
    "clean_pas_df = clean_pas_df.replace('\\*+', '', regex=True).astype(str)"
   ]
  },
  {
   "cell_type": "code",
   "execution_count": 34,
   "metadata": {},
   "outputs": [],
   "source": [
    "nfl_rec_df = pd.DataFrame(nfl_rec, columns=['Year', 'Player', 'Tm', 'G', 'Tgt', 'Rec', 'Ctch%', 'Yds', 'TD', 'Fmb'])\n",
    "clean_rec_df = nfl_rec_df.fillna(0)\n",
    "clean_rec_df = clean_rec_df.replace('\\*', '', regex=True).astype(str)\n",
    "clean_rec_df = clean_rec_df.replace('\\+', '', regex=True).astype(str)\n",
    "clean_rec_df = clean_rec_df.replace('\\*+', '', regex=True).astype(str)"
   ]
  },
  {
   "cell_type": "code",
   "execution_count": 35,
   "metadata": {},
   "outputs": [],
   "source": [
    "nfl_rus_df = pd.DataFrame(nfl_rus, columns=['Year', 'Player', 'Tm', 'G', 'Att', 'Yds', 'TD', 'Y/A', 'Y/G', 'Fmb'])\n",
    "clean_rus_df = nfl_rus_df.fillna(0)\n",
    "clean_rus_df = clean_rus_df.replace('\\*', '', regex=True).astype(str)\n",
    "clean_rus_df = clean_rus_df.replace('\\+', '', regex=True).astype(str)\n",
    "clean_rus_df = clean_rus_df.replace('\\*+', '', regex=True).astype(str)"
   ]
  },
  {
   "cell_type": "code",
   "execution_count": 36,
   "metadata": {},
   "outputs": [],
   "source": [
    "top_nfl_def_df = clean_def_df.loc[clean_def_df['Player'].isin(top_def_list)]\n",
    "sort_top_def = top_nfl_def_df.sort_values([\"Player\", \"Year\"], ascending=True)"
   ]
  },
  {
   "cell_type": "code",
   "execution_count": 37,
   "metadata": {},
   "outputs": [],
   "source": [
    "top_nfl_rus_df = clean_rus_df.loc[clean_rus_df['Player'].isin(top_rush_list)]\n",
    "sort_top_rus = top_nfl_rus_df.sort_values([\"Player\", \"Year\"], ascending=True)"
   ]
  },
  {
   "cell_type": "code",
   "execution_count": 38,
   "metadata": {},
   "outputs": [],
   "source": [
    "top_nfl_pas_df = clean_pas_df.loc[clean_pas_df['Player'].isin(top_pass_list)]\n",
    "sort_top_pas = top_nfl_pas_df.sort_values([\"Player\", \"Year\"], ascending=True)"
   ]
  },
  {
   "cell_type": "code",
   "execution_count": 39,
   "metadata": {},
   "outputs": [],
   "source": [
    "top_nfl_rec_df = clean_rec_df.loc[clean_rec_df['Player'].isin(top_rec_list)]\n",
    "sort_top_rec = top_nfl_rec_df.sort_values([\"Player\", \"Year\"], ascending=True)"
   ]
  },
  {
   "cell_type": "code",
   "execution_count": 44,
   "metadata": {},
   "outputs": [
    {
     "data": {
      "text/html": [
       "<div>\n",
       "<style scoped>\n",
       "    .dataframe tbody tr th:only-of-type {\n",
       "        vertical-align: middle;\n",
       "    }\n",
       "\n",
       "    .dataframe tbody tr th {\n",
       "        vertical-align: top;\n",
       "    }\n",
       "\n",
       "    .dataframe thead th {\n",
       "        text-align: right;\n",
       "    }\n",
       "</style>\n",
       "<table border=\"1\" class=\"dataframe\">\n",
       "  <thead>\n",
       "    <tr style=\"text-align: right;\">\n",
       "      <th></th>\n",
       "      <th>Year</th>\n",
       "      <th>Player</th>\n",
       "      <th>Team</th>\n",
       "      <th>G</th>\n",
       "      <th>Int</th>\n",
       "      <th>TD</th>\n",
       "      <th>PD</th>\n",
       "      <th>FF</th>\n",
       "      <th>Fmb</th>\n",
       "      <th>FR</th>\n",
       "      <th>TD.1</th>\n",
       "      <th>Sk</th>\n",
       "      <th>Comb</th>\n",
       "      <th>Solo</th>\n",
       "    </tr>\n",
       "  </thead>\n",
       "  <tbody>\n",
       "    <tr>\n",
       "      <th>6848</th>\n",
       "      <td>2014</td>\n",
       "      <td>Aaron Donald</td>\n",
       "      <td>STL</td>\n",
       "      <td>16</td>\n",
       "      <td>0.0</td>\n",
       "      <td>0.0</td>\n",
       "      <td>1.0</td>\n",
       "      <td>2.0</td>\n",
       "      <td>0.0</td>\n",
       "      <td>0.0</td>\n",
       "      <td>0.0</td>\n",
       "      <td>9.0</td>\n",
       "      <td>48.0</td>\n",
       "      <td>38.0</td>\n",
       "    </tr>\n",
       "    <tr>\n",
       "      <th>5492</th>\n",
       "      <td>2015</td>\n",
       "      <td>Aaron Donald</td>\n",
       "      <td>STL</td>\n",
       "      <td>16</td>\n",
       "      <td>0.0</td>\n",
       "      <td>0.0</td>\n",
       "      <td>1.0</td>\n",
       "      <td>0.0</td>\n",
       "      <td>0.0</td>\n",
       "      <td>1.0</td>\n",
       "      <td>0.0</td>\n",
       "      <td>11.0</td>\n",
       "      <td>69.0</td>\n",
       "      <td>44.0</td>\n",
       "    </tr>\n",
       "    <tr>\n",
       "      <th>4222</th>\n",
       "      <td>2016</td>\n",
       "      <td>Aaron Donald</td>\n",
       "      <td>LAR</td>\n",
       "      <td>16</td>\n",
       "      <td>0.0</td>\n",
       "      <td>0.0</td>\n",
       "      <td>5.0</td>\n",
       "      <td>2.0</td>\n",
       "      <td>0.0</td>\n",
       "      <td>0.0</td>\n",
       "      <td>0.0</td>\n",
       "      <td>8.0</td>\n",
       "      <td>47.0</td>\n",
       "      <td>36.0</td>\n",
       "    </tr>\n",
       "    <tr>\n",
       "      <th>2936</th>\n",
       "      <td>2017</td>\n",
       "      <td>Aaron Donald</td>\n",
       "      <td>LAR</td>\n",
       "      <td>14</td>\n",
       "      <td>0.0</td>\n",
       "      <td>0.0</td>\n",
       "      <td>1.0</td>\n",
       "      <td>5.0</td>\n",
       "      <td>0.0</td>\n",
       "      <td>1.0</td>\n",
       "      <td>0.0</td>\n",
       "      <td>11.0</td>\n",
       "      <td>41.0</td>\n",
       "      <td>32.0</td>\n",
       "    </tr>\n",
       "    <tr>\n",
       "      <th>1495</th>\n",
       "      <td>2018</td>\n",
       "      <td>Aaron Donald</td>\n",
       "      <td>LAR</td>\n",
       "      <td>16</td>\n",
       "      <td>0.0</td>\n",
       "      <td>0.0</td>\n",
       "      <td>1.0</td>\n",
       "      <td>4.0</td>\n",
       "      <td>0.0</td>\n",
       "      <td>2.0</td>\n",
       "      <td>0.0</td>\n",
       "      <td>20.5</td>\n",
       "      <td>59.0</td>\n",
       "      <td>41.0</td>\n",
       "    </tr>\n",
       "    <tr>\n",
       "      <th>...</th>\n",
       "      <td>...</td>\n",
       "      <td>...</td>\n",
       "      <td>...</td>\n",
       "      <td>...</td>\n",
       "      <td>...</td>\n",
       "      <td>...</td>\n",
       "      <td>...</td>\n",
       "      <td>...</td>\n",
       "      <td>...</td>\n",
       "      <td>...</td>\n",
       "      <td>...</td>\n",
       "      <td>...</td>\n",
       "      <td>...</td>\n",
       "      <td>...</td>\n",
       "    </tr>\n",
       "    <tr>\n",
       "      <th>5756</th>\n",
       "      <td>2015</td>\n",
       "      <td>Za'Darius Smith</td>\n",
       "      <td>BAL</td>\n",
       "      <td>15</td>\n",
       "      <td>0.0</td>\n",
       "      <td>0.0</td>\n",
       "      <td>1.0</td>\n",
       "      <td>0.0</td>\n",
       "      <td>0.0</td>\n",
       "      <td>0.0</td>\n",
       "      <td>0.0</td>\n",
       "      <td>5.5</td>\n",
       "      <td>30.0</td>\n",
       "      <td>20.0</td>\n",
       "    </tr>\n",
       "    <tr>\n",
       "      <th>4609</th>\n",
       "      <td>2016</td>\n",
       "      <td>Za'Darius Smith</td>\n",
       "      <td>BAL</td>\n",
       "      <td>13</td>\n",
       "      <td>0.0</td>\n",
       "      <td>0.0</td>\n",
       "      <td>1.0</td>\n",
       "      <td>1.0</td>\n",
       "      <td>0.0</td>\n",
       "      <td>0.0</td>\n",
       "      <td>0.0</td>\n",
       "      <td>1.0</td>\n",
       "      <td>20.0</td>\n",
       "      <td>10.0</td>\n",
       "    </tr>\n",
       "    <tr>\n",
       "      <th>3190</th>\n",
       "      <td>2017</td>\n",
       "      <td>Za'Darius Smith</td>\n",
       "      <td>BAL</td>\n",
       "      <td>14</td>\n",
       "      <td>0.0</td>\n",
       "      <td>0.0</td>\n",
       "      <td>1.0</td>\n",
       "      <td>1.0</td>\n",
       "      <td>0.0</td>\n",
       "      <td>0.0</td>\n",
       "      <td>0.0</td>\n",
       "      <td>3.5</td>\n",
       "      <td>24.0</td>\n",
       "      <td>15.0</td>\n",
       "    </tr>\n",
       "    <tr>\n",
       "      <th>1663</th>\n",
       "      <td>2018</td>\n",
       "      <td>Za'Darius Smith</td>\n",
       "      <td>BAL</td>\n",
       "      <td>16</td>\n",
       "      <td>0.0</td>\n",
       "      <td>0.0</td>\n",
       "      <td>2.0</td>\n",
       "      <td>1.0</td>\n",
       "      <td>0.0</td>\n",
       "      <td>0.0</td>\n",
       "      <td>0.0</td>\n",
       "      <td>8.5</td>\n",
       "      <td>45.0</td>\n",
       "      <td>26.0</td>\n",
       "    </tr>\n",
       "    <tr>\n",
       "      <th>174</th>\n",
       "      <td>2019</td>\n",
       "      <td>Za'Darius Smith</td>\n",
       "      <td>GNB</td>\n",
       "      <td>16</td>\n",
       "      <td>0.0</td>\n",
       "      <td>0.0</td>\n",
       "      <td>0.0</td>\n",
       "      <td>1.0</td>\n",
       "      <td>0.0</td>\n",
       "      <td>0.0</td>\n",
       "      <td>0.0</td>\n",
       "      <td>13.5</td>\n",
       "      <td>55.0</td>\n",
       "      <td>41.0</td>\n",
       "    </tr>\n",
       "  </tbody>\n",
       "</table>\n",
       "<p>160 rows × 14 columns</p>\n",
       "</div>"
      ],
      "text/plain": [
       "      Year           Player Team   G  Int   TD   PD   FF  Fmb   FR TD.1    Sk  \\\n",
       "6848  2014     Aaron Donald  STL  16  0.0  0.0  1.0  2.0  0.0  0.0  0.0   9.0   \n",
       "5492  2015     Aaron Donald  STL  16  0.0  0.0  1.0  0.0  0.0  1.0  0.0  11.0   \n",
       "4222  2016     Aaron Donald  LAR  16  0.0  0.0  5.0  2.0  0.0  0.0  0.0   8.0   \n",
       "2936  2017     Aaron Donald  LAR  14  0.0  0.0  1.0  5.0  0.0  1.0  0.0  11.0   \n",
       "1495  2018     Aaron Donald  LAR  16  0.0  0.0  1.0  4.0  0.0  2.0  0.0  20.5   \n",
       "...    ...              ...  ...  ..  ...  ...  ...  ...  ...  ...  ...   ...   \n",
       "5756  2015  Za'Darius Smith  BAL  15  0.0  0.0  1.0  0.0  0.0  0.0  0.0   5.5   \n",
       "4609  2016  Za'Darius Smith  BAL  13  0.0  0.0  1.0  1.0  0.0  0.0  0.0   1.0   \n",
       "3190  2017  Za'Darius Smith  BAL  14  0.0  0.0  1.0  1.0  0.0  0.0  0.0   3.5   \n",
       "1663  2018  Za'Darius Smith  BAL  16  0.0  0.0  2.0  1.0  0.0  0.0  0.0   8.5   \n",
       "174   2019  Za'Darius Smith  GNB  16  0.0  0.0  0.0  1.0  0.0  0.0  0.0  13.5   \n",
       "\n",
       "      Comb  Solo  \n",
       "6848  48.0  38.0  \n",
       "5492  69.0  44.0  \n",
       "4222  47.0  36.0  \n",
       "2936  41.0  32.0  \n",
       "1495  59.0  41.0  \n",
       "...    ...   ...  \n",
       "5756  30.0  20.0  \n",
       "4609  20.0  10.0  \n",
       "3190  24.0  15.0  \n",
       "1663  45.0  26.0  \n",
       "174   55.0  41.0  \n",
       "\n",
       "[160 rows x 14 columns]"
      ]
     },
     "execution_count": 44,
     "metadata": {},
     "output_type": "execute_result"
    }
   ],
   "source": [
    "renamed_def = sort_top_def.rename(columns={\"Tm\":\"Team\",\n",
    "                                          \"TD\": \"\"})\n",
    "renamed_df"
   ]
  },
  {
   "cell_type": "code",
   "execution_count": null,
   "metadata": {},
   "outputs": [],
   "source": [
    "sort_top_rus.rename(columns={})"
   ]
  },
  {
   "cell_type": "code",
   "execution_count": null,
   "metadata": {},
   "outputs": [],
   "source": [
    "sort_top_pas.rename(columns={})"
   ]
  },
  {
   "cell_type": "code",
   "execution_count": null,
   "metadata": {},
   "outputs": [],
   "source": [
    "sort_top_def.rename(columns={})"
   ]
  },
  {
   "cell_type": "code",
   "execution_count": null,
   "metadata": {},
   "outputs": [],
   "source": [
    "sort_top_rec.rename(columns={})"
   ]
  },
  {
   "cell_type": "code",
   "execution_count": 18,
   "metadata": {},
   "outputs": [],
   "source": [
    "writer = pd.ExcelWriter('TopFullStats.xlsx', engine='xlsxwriter')\n",
    "\n",
    "sort_top_def.to_excel(writer, sheet_name=\"Defense\", index=False, header=True)\n",
    "sort_top_pas.to_excel(writer, sheet_name=\"Passing\", index=False, header=True)\n",
    "sort_top_rec.to_excel(writer, sheet_name=\"Receiving\", index=False, header=True)\n",
    "sort_top_rus.to_excel(writer, sheet_name=\"Rushing\", index=False, header=True)\n",
    "nfl_sal_df.to_excel(writer, sheet_name=\"Salary\", index=False, header=True)\n",
    "\n",
    "writer.save()"
   ]
  },
  {
   "cell_type": "code",
   "execution_count": null,
   "metadata": {},
   "outputs": [],
   "source": []
  }
 ],
 "metadata": {
  "kernelspec": {
   "display_name": "Python 3",
   "language": "python",
   "name": "python3"
  },
  "language_info": {
   "codemirror_mode": {
    "name": "ipython",
    "version": 3
   },
   "file_extension": ".py",
   "mimetype": "text/x-python",
   "name": "python",
   "nbconvert_exporter": "python",
   "pygments_lexer": "ipython3",
   "version": "3.7.6"
  }
 },
 "nbformat": 4,
 "nbformat_minor": 4
}
